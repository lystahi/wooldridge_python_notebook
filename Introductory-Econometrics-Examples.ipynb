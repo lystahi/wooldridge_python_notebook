{
 "cells": [
  {
   "cell_type": "code",
   "execution_count": 1,
   "metadata": {},
   "outputs": [],
   "source": [
    "import numpy as np\n",
    "import pandas as pd\n",
    "import matplotlib.pyplot as plt\n",
    "import statsmodels.api as sm\n",
    "import statsmodels.formula.api as smf\n",
    "%matplotlib inline"
   ]
  },
  {
   "cell_type": "code",
   "execution_count": 2,
   "metadata": {},
   "outputs": [],
   "source": [
    "import warnings\n",
    "warnings.simplefilter('ignore')"
   ]
  },
  {
   "cell_type": "markdown",
   "metadata": {},
   "source": [
    "## Introduction\n",
    "\n",
    "This notebook contains examples from _Introductory Econometrics: A Modern Approach, 6e_ by Jeffrey M. Wooldridge. Each example illustrates how to load data, build econometric models, and compute estimates with **Python**.\n",
    "\n",
    "Now, install and load the `wooldridge` package and lets get started!"
   ]
  },
  {
   "cell_type": "code",
   "execution_count": 3,
   "metadata": {},
   "outputs": [],
   "source": [
    "# !pip install wooldridge"
   ]
  },
  {
   "cell_type": "code",
   "execution_count": 4,
   "metadata": {},
   "outputs": [],
   "source": [
    "from wooldridge import *"
   ]
  },
  {
   "cell_type": "markdown",
   "metadata": {},
   "source": [
    "## Chapter 2: The Simple Regression Model\n",
    "\n",
    "### **`Example 2.10:` A Log Wage Equation**\n",
    "\n",
    "Load the `wage1` data and check out the documentation."
   ]
  },
  {
   "cell_type": "code",
   "execution_count": 5,
   "metadata": {},
   "outputs": [
    {
     "name": "stdout",
     "output_type": "stream",
     "text": [
      "name of dataset: wage1\n",
      "no of variables: 24\n",
      "no of observations: 526\n",
      "\n",
      "+----------+---------------------------------+\n",
      "| variable | label                           |\n",
      "+----------+---------------------------------+\n",
      "| wage     | average hourly earnings         |\n",
      "| educ     | years of education              |\n",
      "| exper    | years potential experience      |\n",
      "| tenure   | years with current employer     |\n",
      "| nonwhite | =1 if nonwhite                  |\n",
      "| female   | =1 if female                    |\n",
      "| married  | =1 if married                   |\n",
      "| numdep   | number of dependents            |\n",
      "| smsa     | =1 if live in SMSA              |\n",
      "| northcen | =1 if live in north central U.S |\n",
      "| south    | =1 if live in southern region   |\n",
      "| west     | =1 if live in western region    |\n",
      "| construc | =1 if work in construc. indus.  |\n",
      "| ndurman  | =1 if in nondur. manuf. indus.  |\n",
      "| trcommpu | =1 if in trans, commun, pub ut  |\n",
      "| trade    | =1 if in wholesale or retail    |\n",
      "| services | =1 if in services indus.        |\n",
      "| profserv | =1 if in prof. serv. indus.     |\n",
      "| profocc  | =1 if in profess. occupation    |\n",
      "| clerocc  | =1 if in clerical occupation    |\n",
      "| servocc  | =1 if in service occupation     |\n",
      "| lwage    | log(wage)                       |\n",
      "| expersq  | exper^2                         |\n",
      "| tenursq  | tenure^2                        |\n",
      "+----------+---------------------------------+\n",
      "\n",
      "These are data from the 1976 Current Population Survey, collected by\n",
      "Henry Farber when he and I were colleagues at MIT in 1988.\n"
     ]
    }
   ],
   "source": [
    "dataWoo('wage1', description=True)"
   ]
  },
  {
   "cell_type": "markdown",
   "metadata": {},
   "source": [
    "The documentation indicates these are data from the 1976 Current Population Survey, collected by Henry Farber when he and Wooldridge were colleagues at MIT in 1988.\n",
    "\n",
    "**$wage$:** average hourly earnings\n",
    "\n",
    "**$educ$:** years of education\n",
    "\n",
    "First, make a scatter-plot of the two variables and look for possible patterns in the relationship between them."
   ]
  },
  {
   "cell_type": "code",
   "execution_count": 6,
   "metadata": {},
   "outputs": [],
   "source": [
    "wage1 = dataWoo('wage1')"
   ]
  },
  {
   "cell_type": "code",
   "execution_count": 7,
   "metadata": {},
   "outputs": [
    {
     "data": {
      "image/png": "[encoded data removed]",
      "text/plain": [
       "<Figure size 432x288 with 1 Axes>"
      ]
     },
     "metadata": {
      "needs_background": "light"
     },
     "output_type": "display_data"
    }
   ],
   "source": [
    "plt.scatter(wage1.educ, wage1.wage)\n",
    "plt.title(\"Wages vs. Education, 1976\")\n",
    "plt.xlabel(\"years of education\")\n",
    "plt.ylabel(\"Hourly wages\")\n",
    "plt.show()"
   ]
  },
  {
   "cell_type": "markdown",
   "metadata": {},
   "source": [
    "It appears that _**on average**_, more years of education, leads to higher wages.\n",
    "\n",
    "The example in the text investigates what the _**percentage**_ change between wages and education might be. So, we must use the $log($`wage`$)$.\n",
    "\n",
    "Build a linear model to estimate the relationship between the _log of wage_ (`lwage`) and _education_ (`educ`).\n",
    "\n",
    "$$\\widehat{log(wage)} = \\beta_0 + \\beta_1educ$$"
   ]
  },
  {
   "cell_type": "code",
   "execution_count": 8,
   "metadata": {},
   "outputs": [],
   "source": [
    "y = wage1.lwage\n",
    "x = wage1.educ\n",
    "\n",
    "model = sm.OLS(x, y)\n",
    "results = model.fit()"
   ]
  },
  {
   "cell_type": "markdown",
   "metadata": {},
   "source": [
    "Print the `summary` of the results."
   ]
  },
  {
   "cell_type": "code",
   "execution_count": 9,
   "metadata": {},
   "outputs": [
    {
     "name": "stdout",
     "output_type": "stream",
     "text": [
      "                                 OLS Regression Results                                \n",
      "=======================================================================================\n",
      "Dep. Variable:                   educ   R-squared (uncentered):                   0.916\n",
      "Model:                            OLS   Adj. R-squared (uncentered):              0.916\n",
      "Method:                 Least Squares   F-statistic:                              5717.\n",
      "Date:                Sat, 09 May 2020   Prob (F-statistic):                   2.18e-284\n",
      "Time:                        15:36:54   Log-Likelihood:                         -1438.9\n",
      "No. Observations:                 526   AIC:                                      2880.\n",
      "Df Residuals:                     525   BIC:                                      2884.\n",
      "Df Model:                           1                                                  \n",
      "Covariance Type:            nonrobust                                                  \n",
      "==============================================================================\n",
      "                 coef    std err          t      P>|t|      [0.025      0.975]\n",
      "------------------------------------------------------------------------------\n",
      "lwage          7.2081      0.095     75.608      0.000       7.021       7.395\n",
      "==============================================================================\n",
      "Omnibus:                       12.119   Durbin-Watson:                   1.699\n",
      "Prob(Omnibus):                  0.002   Jarque-Bera (JB):               13.454\n",
      "Skew:                          -0.295   Prob(JB):                      0.00120\n",
      "Kurtosis:                       3.515   Cond. No.                         1.00\n",
      "==============================================================================\n",
      "\n",
      "Warnings:\n",
      "[1] Standard Errors assume that the covariance matrix of the errors is correctly specified.\n"
     ]
    }
   ],
   "source": [
    "print(results.summary())"
   ]
  },
  {
   "cell_type": "markdown",
   "metadata": {},
   "source": [
    "Plot the $log($`wage`$)$ vs `educ`, adding a line representing the least squares\n",
    "fit."
   ]
  },
  {
   "cell_type": "code",
   "execution_count": 10,
   "metadata": {},
   "outputs": [
    {
     "data": {
      "image/png": "[encoded data removed]",
      "text/plain": [
       "<Figure size 432x288 with 1 Axes>"
      ]
     },
     "metadata": {
      "needs_background": "light"
     },
     "output_type": "display_data"
    }
   ],
   "source": [
    "x_with_const = sm.add_constant(x)\n",
    "\n",
    "model = sm.OLS(x_with_const, y)\n",
    "results = model.fit()\n",
    "\n",
    "slope, intercept = results.params[1].values/100, results.params[0].values\n",
    "\n",
    "\n",
    "def abline(slope, intercept):\n",
    "    \"\"\"Plot a line from slope and intercept\"\"\"\n",
    "    axes = plt.gca()\n",
    "    x_vals = np.array(axes.get_xlim())\n",
    "    y_vals = intercept + slope * x_vals\n",
    "    plt.plot(x_vals, y_vals, '--')\n",
    "\n",
    "\n",
    "plt.scatter(x, y)\n",
    "abline(slope, intercept)\n",
    "plt.title(\"A Log Wage Equation\")\n",
    "plt.xlabel(\"years of education\")\n",
    "plt.ylabel(\"log of average hourly wages\")\n",
    "plt.show()"
   ]
  },
  {
   "cell_type": "markdown",
   "metadata": {},
   "source": [
    "## Chapter 3: Multiple Regression Analysis: Estimation\n",
    "\n",
    "### **`Example 3.2:` Hourly Wage Equation**\n",
    "\n",
    "Check the documentation for variable information"
   ]
  },
  {
   "cell_type": "code",
   "execution_count": 11,
   "metadata": {},
   "outputs": [
    {
     "name": "stdout",
     "output_type": "stream",
     "text": [
      "name of dataset: wage1\n",
      "no of variables: 24\n",
      "no of observations: 526\n",
      "\n",
      "+----------+---------------------------------+\n",
      "| variable | label                           |\n",
      "+----------+---------------------------------+\n",
      "| wage     | average hourly earnings         |\n",
      "| educ     | years of education              |\n",
      "| exper    | years potential experience      |\n",
      "| tenure   | years with current employer     |\n",
      "| nonwhite | =1 if nonwhite                  |\n",
      "| female   | =1 if female                    |\n",
      "| married  | =1 if married                   |\n",
      "| numdep   | number of dependents            |\n",
      "| smsa     | =1 if live in SMSA              |\n",
      "| northcen | =1 if live in north central U.S |\n",
      "| south    | =1 if live in southern region   |\n",
      "| west     | =1 if live in western region    |\n",
      "| construc | =1 if work in construc. indus.  |\n",
      "| ndurman  | =1 if in nondur. manuf. indus.  |\n",
      "| trcommpu | =1 if in trans, commun, pub ut  |\n",
      "| trade    | =1 if in wholesale or retail    |\n",
      "| services | =1 if in services indus.        |\n",
      "| profserv | =1 if in prof. serv. indus.     |\n",
      "| profocc  | =1 if in profess. occupation    |\n",
      "| clerocc  | =1 if in clerical occupation    |\n",
      "| servocc  | =1 if in service occupation     |\n",
      "| lwage    | log(wage)                       |\n",
      "| expersq  | exper^2                         |\n",
      "| tenursq  | tenure^2                        |\n",
      "+----------+---------------------------------+\n",
      "\n",
      "These are data from the 1976 Current Population Survey, collected by\n",
      "Henry Farber when he and I were colleagues at MIT in 1988.\n"
     ]
    }
   ],
   "source": [
    "dataWoo('wage1', description=True)"
   ]
  },
  {
   "cell_type": "markdown",
   "metadata": {},
   "source": [
    "**$lwage$:** log of the average hourly earnings\n",
    "\n",
    "**$educ$:** years of education\n",
    "\n",
    "**$exper$:** years of potential experience\n",
    "\n",
    "**$tenutre$:** years with current employer\n",
    "\n",
    "Plot the variables against `lwage` and compare their distributions\n",
    "and slope ($\\beta$) of the simple regression lines.\n"
   ]
  },
  {
   "cell_type": "code",
   "execution_count": 12,
   "metadata": {},
   "outputs": [
    {
     "data": {
      "image/png": "[encoded data removed]",
      "text/plain": [
       "<Figure size 432x288 with 1 Axes>"
      ]
     },
     "metadata": {
      "needs_background": "light"
     },
     "output_type": "display_data"
    }
   ],
   "source": [
    "y = wage1.lwage\n",
    "x = wage1.educ\n",
    "\n",
    "model = sm.OLS(x, y)\n",
    "results = model.fit()\n",
    "\n",
    "x_with_const = sm.add_constant(x)\n",
    "\n",
    "model = sm.OLS(x_with_const, y)\n",
    "results = model.fit()\n",
    "\n",
    "slope, intercept = results.params[1].values/100, results.params[0].values\n",
    "\n",
    "plt.scatter(x, y)\n",
    "abline(slope, intercept)\n",
    "plt.title(\"A Log Wage Equation\")\n",
    "plt.xlabel(\"years of education\")\n",
    "plt.ylabel(\"log of average hourly wages\")\n",
    "plt.show()"
   ]
  },
  {
   "cell_type": "code",
   "execution_count": 13,
   "metadata": {},
   "outputs": [
    {
     "data": {
      "image/png": "[encoded data removed]",
      "text/plain": [
       "<Figure size 432x288 with 1 Axes>"
      ]
     },
     "metadata": {
      "needs_background": "light"
     },
     "output_type": "display_data"
    }
   ],
   "source": [
    "y = wage1.lwage\n",
    "x = wage1.exper\n",
    "\n",
    "model = sm.OLS(x, y)\n",
    "results = model.fit()\n",
    "\n",
    "x_with_const = sm.add_constant(x)\n",
    "\n",
    "model = sm.OLS(x_with_const, y)\n",
    "results = model.fit()\n",
    "\n",
    "slope, intercept = results.params[1].values/100, results.params[0].values\n",
    "\n",
    "plt.scatter(x, y)\n",
    "abline(slope, intercept)\n",
    "plt.title(\"A Log Wage Equation\")\n",
    "plt.xlabel(\"years of education\")\n",
    "plt.ylabel(\"log of average hourly wages\")\n",
    "plt.show()"
   ]
  },
  {
   "cell_type": "code",
   "execution_count": 14,
   "metadata": {},
   "outputs": [
    {
     "data": {
      "image/png": "[encoded data removed]",
      "text/plain": [
       "<Figure size 432x288 with 1 Axes>"
      ]
     },
     "metadata": {
      "needs_background": "light"
     },
     "output_type": "display_data"
    }
   ],
   "source": [
    "y = wage1.lwage\n",
    "x = wage1.tenure\n",
    "\n",
    "model = sm.OLS(x, y)\n",
    "results = model.fit()\n",
    "\n",
    "x_with_const = sm.add_constant(x)\n",
    "\n",
    "model = sm.OLS(x_with_const, y)\n",
    "results = model.fit()\n",
    "\n",
    "slope, intercept = results.params[1].values/100, results.params[0].values\n",
    "\n",
    "plt.scatter(x, y)\n",
    "abline(slope, intercept)\n",
    "plt.title(\"A Log Wage Equation\")\n",
    "plt.xlabel(\"years of education\")\n",
    "plt.ylabel(\"log of average hourly wages\")\n",
    "plt.show()"
   ]
  },
  {
   "cell_type": "markdown",
   "metadata": {},
   "source": [
    "Estimate the model regressing _educ_, _exper_, and _tenure_ against _log(wage)_.\n",
    "\n",
    "$$\\widehat{log(wage)} = \\beta_0 + \\beta_1educ + \\beta_3exper + \\beta_4tenure$$"
   ]
  },
  {
   "cell_type": "code",
   "execution_count": 15,
   "metadata": {},
   "outputs": [
    {
     "data": {
      "text/plain": [
       "Intercept    0.284360\n",
       "educ         0.092029\n",
       "exper        0.004121\n",
       "tenure       0.022067\n",
       "dtype: float64"
      ]
     },
     "execution_count": 15,
     "metadata": {},
     "output_type": "execute_result"
    }
   ],
   "source": [
    "results = smf.ols(\"lwage ~ educ + exper + tenure\", data=wage1).fit()\n",
    "results.params"
   ]
  },
  {
   "cell_type": "code",
   "execution_count": 16,
   "metadata": {},
   "outputs": [],
   "source": [
    "coef_df = pd.DataFrame(results.params)\n",
    "coef_df.drop(index=['Intercept'], inplace=True)\n",
    "coef_df.rename(columns={0: \"coef\"}, inplace=True)"
   ]
  },
  {
   "cell_type": "code",
   "execution_count": 17,
   "metadata": {},
   "outputs": [
    {
     "data": {
      "text/html": [
       "<div>\n",
       "<style scoped>\n",
       "    .dataframe tbody tr th:only-of-type {\n",
       "        vertical-align: middle;\n",
       "    }\n",
       "\n",
       "    .dataframe tbody tr th {\n",
       "        vertical-align: top;\n",
       "    }\n",
       "\n",
       "    .dataframe thead th {\n",
       "        text-align: right;\n",
       "    }\n",
       "</style>\n",
       "<table border=\"1\" class=\"dataframe\">\n",
       "  <thead>\n",
       "    <tr style=\"text-align: right;\">\n",
       "      <th></th>\n",
       "      <th>coef</th>\n",
       "    </tr>\n",
       "  </thead>\n",
       "  <tbody>\n",
       "    <tr>\n",
       "      <td>educ</td>\n",
       "      <td>0.092029</td>\n",
       "    </tr>\n",
       "    <tr>\n",
       "      <td>exper</td>\n",
       "      <td>0.004121</td>\n",
       "    </tr>\n",
       "    <tr>\n",
       "      <td>tenure</td>\n",
       "      <td>0.022067</td>\n",
       "    </tr>\n",
       "  </tbody>\n",
       "</table>\n",
       "</div>"
      ],
      "text/plain": [
       "            coef\n",
       "educ    0.092029\n",
       "exper   0.004121\n",
       "tenure  0.022067"
      ]
     },
     "execution_count": 17,
     "metadata": {},
     "output_type": "execute_result"
    }
   ],
   "source": [
    "coef_df"
   ]
  },
  {
   "cell_type": "code",
   "execution_count": 18,
   "metadata": {},
   "outputs": [
    {
     "data": {
      "text/plain": [
       "<matplotlib.axes._subplots.AxesSubplot at 0x1c1b4c9390>"
      ]
     },
     "execution_count": 18,
     "metadata": {},
     "output_type": "execute_result"
    },
    {
     "data": {
      "image/png": "[encoded data removed]",
      "text/plain": [
       "<Figure size 432x288 with 1 Axes>"
      ]
     },
     "metadata": {
      "needs_background": "light"
     },
     "output_type": "display_data"
    }
   ],
   "source": [
    "coef_df.sort_values(by='coef', ascending=False).plot.bar()"
   ]
  },
  {
   "cell_type": "markdown",
   "metadata": {},
   "source": [
    "## Chapter 4: Multiple Regression Analysis: Inference\n",
    "\n",
    "### **`Example 4.1` Hourly Wage Equation**\n",
    "\n",
    "Using the same model estimated in **`example: 3.2`**, examine and compare the standard errors associated with each coefficient. Like the textbook, these are contained in parenthesis next to each associated coefficient."
   ]
  },
  {
   "cell_type": "code",
   "execution_count": 19,
   "metadata": {},
   "outputs": [
    {
     "data": {
      "text/html": [
       "<table class=\"simpletable\">\n",
       "<caption>OLS Regression Results</caption>\n",
       "<tr>\n",
       "  <th>Dep. Variable:</th>          <td>lwage</td>      <th>  R-squared:         </th> <td>   0.316</td>\n",
       "</tr>\n",
       "<tr>\n",
       "  <th>Model:</th>                   <td>OLS</td>       <th>  Adj. R-squared:    </th> <td>   0.312</td>\n",
       "</tr>\n",
       "<tr>\n",
       "  <th>Method:</th>             <td>Least Squares</td>  <th>  F-statistic:       </th> <td>   80.39</td>\n",
       "</tr>\n",
       "<tr>\n",
       "  <th>Date:</th>             <td>Sat, 09 May 2020</td> <th>  Prob (F-statistic):</th> <td>9.13e-43</td>\n",
       "</tr>\n",
       "<tr>\n",
       "  <th>Time:</th>                 <td>15:36:55</td>     <th>  Log-Likelihood:    </th> <td> -313.55</td>\n",
       "</tr>\n",
       "<tr>\n",
       "  <th>No. Observations:</th>      <td>   526</td>      <th>  AIC:               </th> <td>   635.1</td>\n",
       "</tr>\n",
       "<tr>\n",
       "  <th>Df Residuals:</th>          <td>   522</td>      <th>  BIC:               </th> <td>   652.2</td>\n",
       "</tr>\n",
       "<tr>\n",
       "  <th>Df Model:</th>              <td>     3</td>      <th>                     </th>     <td> </td>   \n",
       "</tr>\n",
       "<tr>\n",
       "  <th>Covariance Type:</th>      <td>nonrobust</td>    <th>                     </th>     <td> </td>   \n",
       "</tr>\n",
       "</table>\n",
       "<table class=\"simpletable\">\n",
       "<tr>\n",
       "      <td></td>         <th>coef</th>     <th>std err</th>      <th>t</th>      <th>P>|t|</th>  <th>[0.025</th>    <th>0.975]</th>  \n",
       "</tr>\n",
       "<tr>\n",
       "  <th>Intercept</th> <td>    0.2844</td> <td>    0.104</td> <td>    2.729</td> <td> 0.007</td> <td>    0.080</td> <td>    0.489</td>\n",
       "</tr>\n",
       "<tr>\n",
       "  <th>educ</th>      <td>    0.0920</td> <td>    0.007</td> <td>   12.555</td> <td> 0.000</td> <td>    0.078</td> <td>    0.106</td>\n",
       "</tr>\n",
       "<tr>\n",
       "  <th>exper</th>     <td>    0.0041</td> <td>    0.002</td> <td>    2.391</td> <td> 0.017</td> <td>    0.001</td> <td>    0.008</td>\n",
       "</tr>\n",
       "<tr>\n",
       "  <th>tenure</th>    <td>    0.0221</td> <td>    0.003</td> <td>    7.133</td> <td> 0.000</td> <td>    0.016</td> <td>    0.028</td>\n",
       "</tr>\n",
       "</table>\n",
       "<table class=\"simpletable\">\n",
       "<tr>\n",
       "  <th>Omnibus:</th>       <td>11.534</td> <th>  Durbin-Watson:     </th> <td>   1.769</td>\n",
       "</tr>\n",
       "<tr>\n",
       "  <th>Prob(Omnibus):</th> <td> 0.003</td> <th>  Jarque-Bera (JB):  </th> <td>  20.941</td>\n",
       "</tr>\n",
       "<tr>\n",
       "  <th>Skew:</th>          <td> 0.021</td> <th>  Prob(JB):          </th> <td>2.84e-05</td>\n",
       "</tr>\n",
       "<tr>\n",
       "  <th>Kurtosis:</th>      <td> 3.977</td> <th>  Cond. No.          </th> <td>    135.</td>\n",
       "</tr>\n",
       "</table><br/><br/>Warnings:<br/>[1] Standard Errors assume that the covariance matrix of the errors is correctly specified."
      ],
      "text/plain": [
       "<class 'statsmodels.iolib.summary.Summary'>\n",
       "\"\"\"\n",
       "                            OLS Regression Results                            \n",
       "==============================================================================\n",
       "Dep. Variable:                  lwage   R-squared:                       0.316\n",
       "Model:                            OLS   Adj. R-squared:                  0.312\n",
       "Method:                 Least Squares   F-statistic:                     80.39\n",
       "Date:                Sat, 09 May 2020   Prob (F-statistic):           9.13e-43\n",
       "Time:                        15:36:55   Log-Likelihood:                -313.55\n",
       "No. Observations:                 526   AIC:                             635.1\n",
       "Df Residuals:                     522   BIC:                             652.2\n",
       "Df Model:                           3                                         \n",
       "Covariance Type:            nonrobust                                         \n",
       "==============================================================================\n",
       "                 coef    std err          t      P>|t|      [0.025      0.975]\n",
       "------------------------------------------------------------------------------\n",
       "Intercept      0.2844      0.104      2.729      0.007       0.080       0.489\n",
       "educ           0.0920      0.007     12.555      0.000       0.078       0.106\n",
       "exper          0.0041      0.002      2.391      0.017       0.001       0.008\n",
       "tenure         0.0221      0.003      7.133      0.000       0.016       0.028\n",
       "==============================================================================\n",
       "Omnibus:                       11.534   Durbin-Watson:                   1.769\n",
       "Prob(Omnibus):                  0.003   Jarque-Bera (JB):               20.941\n",
       "Skew:                           0.021   Prob(JB):                     2.84e-05\n",
       "Kurtosis:                       3.977   Cond. No.                         135.\n",
       "==============================================================================\n",
       "\n",
       "Warnings:\n",
       "[1] Standard Errors assume that the covariance matrix of the errors is correctly specified.\n",
       "\"\"\""
      ]
     },
     "execution_count": 19,
     "metadata": {},
     "output_type": "execute_result"
    }
   ],
   "source": [
    "results = smf.ols(\"lwage ~ educ + exper + tenure\", data=wage1).fit()\n",
    "results.summary()"
   ]
  },
  {
   "cell_type": "code",
   "execution_count": 20,
   "metadata": {},
   "outputs": [
    {
     "data": {
      "text/plain": [
       "2.3914371073142298"
      ]
     },
     "execution_count": 20,
     "metadata": {},
     "output_type": "execute_result"
    }
   ],
   "source": [
    "results.params[2]/results.bse[2]"
   ]
  },
  {
   "cell_type": "markdown",
   "metadata": {},
   "source": [
    "### **`Example 4.7` Effect of Job Training on Firm Scrap Rates**\n",
    "\n",
    "Load the `jtrain` data set. "
   ]
  },
  {
   "cell_type": "code",
   "execution_count": 21,
   "metadata": {},
   "outputs": [
    {
     "name": "stdout",
     "output_type": "stream",
     "text": [
      "name of dataset: jtrain\n",
      "no of variables: 30\n",
      "no of observations: 471\n",
      "\n",
      "+----------+---------------------------------+\n",
      "| variable | label                           |\n",
      "+----------+---------------------------------+\n",
      "| year     | 1987, 1988, or 1989             |\n",
      "| fcode    | firm code number                |\n",
      "| employ   | # employees at plant            |\n",
      "| sales    | annual sales, $                 |\n",
      "| avgsal   | average employee salary         |\n",
      "| scrap    | scrap rate (per 100 items)      |\n",
      "| rework   | rework rate (per 100 items)     |\n",
      "| tothrs   | total hours training            |\n",
      "| union    | =1 if unionized                 |\n",
      "| grant    | = 1 if received grant           |\n",
      "| d89      | = 1 if year = 1989              |\n",
      "| d88      | = 1 if year = 1988              |\n",
      "| totrain  | total employees trained         |\n",
      "| hrsemp   | tothrs/totrain                  |\n",
      "| lscrap   | log(scrap)                      |\n",
      "| lemploy  | log(employ)                     |\n",
      "| lsales   | log(sales)                      |\n",
      "| lrework  | log(rework)                     |\n",
      "| lhrsemp  | log(1 + hrsemp)                 |\n",
      "| lscrap_1 | lagged lscrap; missing 1987     |\n",
      "| grant_1  | lagged grant; assumed 0 in 1987 |\n",
      "| clscrap  | lscrap - lscrap_1; year > 1987  |\n",
      "| cgrant   | grant - grant_1                 |\n",
      "| clemploy | lemploy - lemploy[_n-1]         |\n",
      "| clsales  | lavgsal - lavgsal[_n-1]         |\n",
      "| lavgsal  | log(avgsal)                     |\n",
      "| clavgsal | lavgsal - lavgsal[_n-1]         |\n",
      "| cgrant_1 | cgrant[_n-1]                    |\n",
      "| chrsemp  | hrsemp - hrsemp[_n-1]           |\n",
      "| clhrsemp | lhrsemp - lhrsemp[_n-1]         |\n",
      "+----------+---------------------------------+\n",
      "\n",
      "H. Holzer, R. Block, M. Cheatham, and J. Knott (1993), “Are Training\n",
      "Subsidies Effective? The Michigan Experience,” Industrial and Labor\n",
      "Relations Review 46, 625-636. The authors kindly provided the data.\n"
     ]
    }
   ],
   "source": [
    "dataWoo('jtrain', description=True)"
   ]
  },
  {
   "cell_type": "code",
   "execution_count": 22,
   "metadata": {},
   "outputs": [
    {
     "data": {
      "text/html": [
       "<div>\n",
       "<style scoped>\n",
       "    .dataframe tbody tr th:only-of-type {\n",
       "        vertical-align: middle;\n",
       "    }\n",
       "\n",
       "    .dataframe tbody tr th {\n",
       "        vertical-align: top;\n",
       "    }\n",
       "\n",
       "    .dataframe thead th {\n",
       "        text-align: right;\n",
       "    }\n",
       "</style>\n",
       "<table border=\"1\" class=\"dataframe\">\n",
       "  <thead>\n",
       "    <tr style=\"text-align: right;\">\n",
       "      <th></th>\n",
       "      <th>year</th>\n",
       "      <th>union</th>\n",
       "      <th>lscrap</th>\n",
       "      <th>hrsemp</th>\n",
       "      <th>lsales</th>\n",
       "      <th>lemploy</th>\n",
       "    </tr>\n",
       "  </thead>\n",
       "  <tbody>\n",
       "    <tr>\n",
       "      <td>0</td>\n",
       "      <td>1987</td>\n",
       "      <td>0</td>\n",
       "      <td>NaN</td>\n",
       "      <td>12.0</td>\n",
       "      <td>17.665659</td>\n",
       "      <td>4.605170</td>\n",
       "    </tr>\n",
       "    <tr>\n",
       "      <td>3</td>\n",
       "      <td>1987</td>\n",
       "      <td>0</td>\n",
       "      <td>NaN</td>\n",
       "      <td>12.0</td>\n",
       "      <td>14.260197</td>\n",
       "      <td>2.484907</td>\n",
       "    </tr>\n",
       "    <tr>\n",
       "      <td>6</td>\n",
       "      <td>1987</td>\n",
       "      <td>0</td>\n",
       "      <td>NaN</td>\n",
       "      <td>37.5</td>\n",
       "      <td>13.527828</td>\n",
       "      <td>2.995732</td>\n",
       "    </tr>\n",
       "    <tr>\n",
       "      <td>9</td>\n",
       "      <td>1987</td>\n",
       "      <td>0</td>\n",
       "      <td>NaN</td>\n",
       "      <td>0.0</td>\n",
       "      <td>16.982714</td>\n",
       "      <td>5.298317</td>\n",
       "    </tr>\n",
       "    <tr>\n",
       "      <td>12</td>\n",
       "      <td>1987</td>\n",
       "      <td>0</td>\n",
       "      <td>NaN</td>\n",
       "      <td>NaN</td>\n",
       "      <td>15.607270</td>\n",
       "      <td>NaN</td>\n",
       "    </tr>\n",
       "  </tbody>\n",
       "</table>\n",
       "</div>"
      ],
      "text/plain": [
       "    year  union  lscrap  hrsemp     lsales   lemploy\n",
       "0   1987      0     NaN    12.0  17.665659  4.605170\n",
       "3   1987      0     NaN    12.0  14.260197  2.484907\n",
       "6   1987      0     NaN    37.5  13.527828  2.995732\n",
       "9   1987      0     NaN     0.0  16.982714  5.298317\n",
       "12  1987      0     NaN     NaN  15.607270       NaN"
      ]
     },
     "execution_count": 22,
     "metadata": {},
     "output_type": "execute_result"
    }
   ],
   "source": [
    "jtrain = dataWoo('jtrain')\n",
    "jtrain_subset = jtrain[jtrain.year == 1987][['year', 'union', 'lscrap',\n",
    "                                             'hrsemp', 'lsales', 'lemploy']]\n",
    "jtrain_subset.head()"
   ]
  },
  {
   "cell_type": "code",
   "execution_count": 23,
   "metadata": {},
   "outputs": [
    {
     "data": {
      "text/plain": [
       "year         0\n",
       "union        0\n",
       "lscrap     103\n",
       "hrsemp      28\n",
       "lsales      38\n",
       "lemploy     13\n",
       "dtype: int64"
      ]
     },
     "execution_count": 23,
     "metadata": {},
     "output_type": "execute_result"
    }
   ],
   "source": [
    "jtrain_subset.isnull().sum()"
   ]
  },
  {
   "cell_type": "code",
   "execution_count": 24,
   "metadata": {},
   "outputs": [],
   "source": [
    "jtrain_clean = jtrain_subset.dropna()"
   ]
  },
  {
   "cell_type": "markdown",
   "metadata": {},
   "source": [
    "Now create the linear model regressing `hrsemp`(total hours training/total employees trained), `lsales`(log of annual sales), and `lemploy`(the log of the number of the employees), against `lscrap`(the log of the scrape rate).\n",
    "\n",
    "$$lscrap = \\alpha + \\beta_1 hrsemp + \\beta_2 lsales + \\beta_3 lemploy$$"
   ]
  },
  {
   "cell_type": "code",
   "execution_count": 25,
   "metadata": {},
   "outputs": [
    {
     "data": {
      "text/html": [
       "<table class=\"simpletable\">\n",
       "<caption>OLS Regression Results</caption>\n",
       "<tr>\n",
       "  <th>Dep. Variable:</th>         <td>lscrap</td>      <th>  R-squared:         </th> <td>   0.310</td>\n",
       "</tr>\n",
       "<tr>\n",
       "  <th>Model:</th>                   <td>OLS</td>       <th>  Adj. R-squared:    </th> <td>   0.257</td>\n",
       "</tr>\n",
       "<tr>\n",
       "  <th>Method:</th>             <td>Least Squares</td>  <th>  F-statistic:       </th> <td>   5.838</td>\n",
       "</tr>\n",
       "<tr>\n",
       "  <th>Date:</th>             <td>Sat, 09 May 2020</td> <th>  Prob (F-statistic):</th>  <td>0.00215</td>\n",
       "</tr>\n",
       "<tr>\n",
       "  <th>Time:</th>                 <td>15:36:55</td>     <th>  Log-Likelihood:    </th> <td> -70.198</td>\n",
       "</tr>\n",
       "<tr>\n",
       "  <th>No. Observations:</th>      <td>    43</td>      <th>  AIC:               </th> <td>   148.4</td>\n",
       "</tr>\n",
       "<tr>\n",
       "  <th>Df Residuals:</th>          <td>    39</td>      <th>  BIC:               </th> <td>   155.4</td>\n",
       "</tr>\n",
       "<tr>\n",
       "  <th>Df Model:</th>              <td>     3</td>      <th>                     </th>     <td> </td>   \n",
       "</tr>\n",
       "<tr>\n",
       "  <th>Covariance Type:</th>      <td>nonrobust</td>    <th>                     </th>     <td> </td>   \n",
       "</tr>\n",
       "</table>\n",
       "<table class=\"simpletable\">\n",
       "<tr>\n",
       "      <td></td>         <th>coef</th>     <th>std err</th>      <th>t</th>      <th>P>|t|</th>  <th>[0.025</th>    <th>0.975]</th>  \n",
       "</tr>\n",
       "<tr>\n",
       "  <th>Intercept</th> <td>   11.7443</td> <td>    4.575</td> <td>    2.567</td> <td> 0.014</td> <td>    2.491</td> <td>   20.997</td>\n",
       "</tr>\n",
       "<tr>\n",
       "  <th>hrsemp</th>    <td>   -0.0422</td> <td>    0.019</td> <td>   -2.259</td> <td> 0.030</td> <td>   -0.080</td> <td>   -0.004</td>\n",
       "</tr>\n",
       "<tr>\n",
       "  <th>lsales</th>    <td>   -0.9506</td> <td>    0.370</td> <td>   -2.570</td> <td> 0.014</td> <td>   -1.699</td> <td>   -0.203</td>\n",
       "</tr>\n",
       "<tr>\n",
       "  <th>lemploy</th>   <td>    0.9921</td> <td>    0.357</td> <td>    2.780</td> <td> 0.008</td> <td>    0.270</td> <td>    1.714</td>\n",
       "</tr>\n",
       "</table>\n",
       "<table class=\"simpletable\">\n",
       "<tr>\n",
       "  <th>Omnibus:</th>       <td> 1.109</td> <th>  Durbin-Watson:     </th> <td>   2.163</td>\n",
       "</tr>\n",
       "<tr>\n",
       "  <th>Prob(Omnibus):</th> <td> 0.574</td> <th>  Jarque-Bera (JB):  </th> <td>   0.934</td>\n",
       "</tr>\n",
       "<tr>\n",
       "  <th>Skew:</th>          <td> 0.093</td> <th>  Prob(JB):          </th> <td>   0.627</td>\n",
       "</tr>\n",
       "<tr>\n",
       "  <th>Kurtosis:</th>      <td> 2.302</td> <th>  Cond. No.          </th> <td>    417.</td>\n",
       "</tr>\n",
       "</table><br/><br/>Warnings:<br/>[1] Standard Errors assume that the covariance matrix of the errors is correctly specified."
      ],
      "text/plain": [
       "<class 'statsmodels.iolib.summary.Summary'>\n",
       "\"\"\"\n",
       "                            OLS Regression Results                            \n",
       "==============================================================================\n",
       "Dep. Variable:                 lscrap   R-squared:                       0.310\n",
       "Model:                            OLS   Adj. R-squared:                  0.257\n",
       "Method:                 Least Squares   F-statistic:                     5.838\n",
       "Date:                Sat, 09 May 2020   Prob (F-statistic):            0.00215\n",
       "Time:                        15:36:55   Log-Likelihood:                -70.198\n",
       "No. Observations:                  43   AIC:                             148.4\n",
       "Df Residuals:                      39   BIC:                             155.4\n",
       "Df Model:                           3                                         \n",
       "Covariance Type:            nonrobust                                         \n",
       "==============================================================================\n",
       "                 coef    std err          t      P>|t|      [0.025      0.975]\n",
       "------------------------------------------------------------------------------\n",
       "Intercept     11.7443      4.575      2.567      0.014       2.491      20.997\n",
       "hrsemp        -0.0422      0.019     -2.259      0.030      -0.080      -0.004\n",
       "lsales        -0.9506      0.370     -2.570      0.014      -1.699      -0.203\n",
       "lemploy        0.9921      0.357      2.780      0.008       0.270       1.714\n",
       "==============================================================================\n",
       "Omnibus:                        1.109   Durbin-Watson:                   2.163\n",
       "Prob(Omnibus):                  0.574   Jarque-Bera (JB):                0.934\n",
       "Skew:                           0.093   Prob(JB):                        0.627\n",
       "Kurtosis:                       2.302   Cond. No.                         417.\n",
       "==============================================================================\n",
       "\n",
       "Warnings:\n",
       "[1] Standard Errors assume that the covariance matrix of the errors is correctly specified.\n",
       "\"\"\""
      ]
     },
     "execution_count": 25,
     "metadata": {},
     "output_type": "execute_result"
    }
   ],
   "source": [
    "results = smf.ols(\"lscrap ~ hrsemp + lsales + lemploy\",\n",
    "                  data=jtrain_clean).fit()\n",
    "results.summary()"
   ]
  },
  {
   "cell_type": "markdown",
   "metadata": {},
   "source": [
    "## Chapter 5: Multiple Regression Analysis: OLS Asymptotics\n",
    "\n",
    "### **`Example 5.1:` Housing Prices and Distance From an Incinerator**\n",
    "\n",
    "Load the `hprice3` data set."
   ]
  },
  {
   "cell_type": "code",
   "execution_count": 26,
   "metadata": {},
   "outputs": [
    {
     "name": "stdout",
     "output_type": "stream",
     "text": [
      "name of dataset: hprice3\n",
      "no of variables: 19\n",
      "no of observations: 321\n",
      "\n",
      "+----------+---------------------------------+\n",
      "| variable | label                           |\n",
      "+----------+---------------------------------+\n",
      "| year     | 1978, 1981                      |\n",
      "| age      | age of house                    |\n",
      "| agesq    | age^2                           |\n",
      "| nbh      | neighborhood, 1-6               |\n",
      "| cbd      | dist. to cent. bus. dstrct, ft. |\n",
      "| inst     | dist. to interstate, ft.        |\n",
      "| linst    | log(inst)                       |\n",
      "| price    | selling price                   |\n",
      "| rooms    | # rooms in house                |\n",
      "| area     | square footage of house         |\n",
      "| land     | square footage lot              |\n",
      "| baths    | # bathrooms                     |\n",
      "| dist     | dist. from house to incin., ft. |\n",
      "| ldist    | log(dist)                       |\n",
      "| lprice   | log(price)                      |\n",
      "| y81      | =1 if year = 1981               |\n",
      "| larea    | log(area)                       |\n",
      "| lland    | log(land)                       |\n",
      "| linstsq  | linst^2                         |\n",
      "+----------+---------------------------------+\n",
      "\n",
      "-\n"
     ]
    }
   ],
   "source": [
    "dataWoo('hprice3', description=True)"
   ]
  },
  {
   "cell_type": "code",
   "execution_count": 27,
   "metadata": {},
   "outputs": [],
   "source": [
    "hprice3 = dataWoo('hprice3')"
   ]
  },
  {
   "cell_type": "markdown",
   "metadata": {},
   "source": [
    "Next, model the $log($`price`$)$ against the $log($`dist`$)$ to estimate the percentage relationship between the two."
   ]
  },
  {
   "cell_type": "code",
   "execution_count": 28,
   "metadata": {},
   "outputs": [],
   "source": [
    "price_dist_model = smf.ols(\"lprice ~ ldist\", data=hprice3).fit()"
   ]
  },
  {
   "cell_type": "markdown",
   "metadata": {},
   "source": [
    "Create another model that controls for \"quality\" variables, such as square footage `area` per house."
   ]
  },
  {
   "cell_type": "code",
   "execution_count": 29,
   "metadata": {},
   "outputs": [],
   "source": [
    "price_area_model = smf.ols(\"lprice ~ ldist + larea\", data=hprice3).fit()"
   ]
  },
  {
   "cell_type": "code",
   "execution_count": 30,
   "metadata": {},
   "outputs": [
    {
     "data": {
      "text/html": [
       "<table class=\"simpletable\">\n",
       "<caption>OLS Regression Results</caption>\n",
       "<tr>\n",
       "  <th>Dep. Variable:</th>         <td>lprice</td>      <th>  R-squared:         </th> <td>   0.120</td>\n",
       "</tr>\n",
       "<tr>\n",
       "  <th>Model:</th>                   <td>OLS</td>       <th>  Adj. R-squared:    </th> <td>   0.117</td>\n",
       "</tr>\n",
       "<tr>\n",
       "  <th>Method:</th>             <td>Least Squares</td>  <th>  F-statistic:       </th> <td>   43.48</td>\n",
       "</tr>\n",
       "<tr>\n",
       "  <th>Date:</th>             <td>Sat, 09 May 2020</td> <th>  Prob (F-statistic):</th> <td>1.78e-10</td>\n",
       "</tr>\n",
       "<tr>\n",
       "  <th>Time:</th>                 <td>15:36:55</td>     <th>  Log-Likelihood:    </th> <td> -169.60</td>\n",
       "</tr>\n",
       "<tr>\n",
       "  <th>No. Observations:</th>      <td>   321</td>      <th>  AIC:               </th> <td>   343.2</td>\n",
       "</tr>\n",
       "<tr>\n",
       "  <th>Df Residuals:</th>          <td>   319</td>      <th>  BIC:               </th> <td>   350.7</td>\n",
       "</tr>\n",
       "<tr>\n",
       "  <th>Df Model:</th>              <td>     1</td>      <th>                     </th>     <td> </td>   \n",
       "</tr>\n",
       "<tr>\n",
       "  <th>Covariance Type:</th>      <td>nonrobust</td>    <th>                     </th>     <td> </td>   \n",
       "</tr>\n",
       "</table>\n",
       "<table class=\"simpletable\">\n",
       "<tr>\n",
       "      <td></td>         <th>coef</th>     <th>std err</th>      <th>t</th>      <th>P>|t|</th>  <th>[0.025</th>    <th>0.975]</th>  \n",
       "</tr>\n",
       "<tr>\n",
       "  <th>Intercept</th> <td>    8.2575</td> <td>    0.474</td> <td>   17.427</td> <td> 0.000</td> <td>    7.325</td> <td>    9.190</td>\n",
       "</tr>\n",
       "<tr>\n",
       "  <th>ldist</th>     <td>    0.3172</td> <td>    0.048</td> <td>    6.594</td> <td> 0.000</td> <td>    0.223</td> <td>    0.412</td>\n",
       "</tr>\n",
       "</table>\n",
       "<table class=\"simpletable\">\n",
       "<tr>\n",
       "  <th>Omnibus:</th>       <td> 3.073</td> <th>  Durbin-Watson:     </th> <td>   0.944</td>\n",
       "</tr>\n",
       "<tr>\n",
       "  <th>Prob(Omnibus):</th> <td> 0.215</td> <th>  Jarque-Bera (JB):  </th> <td>   2.868</td>\n",
       "</tr>\n",
       "<tr>\n",
       "  <th>Skew:</th>          <td> 0.228</td> <th>  Prob(JB):          </th> <td>   0.238</td>\n",
       "</tr>\n",
       "<tr>\n",
       "  <th>Kurtosis:</th>      <td> 3.079</td> <th>  Cond. No.          </th> <td>    205.</td>\n",
       "</tr>\n",
       "</table><br/><br/>Warnings:<br/>[1] Standard Errors assume that the covariance matrix of the errors is correctly specified."
      ],
      "text/plain": [
       "<class 'statsmodels.iolib.summary.Summary'>\n",
       "\"\"\"\n",
       "                            OLS Regression Results                            \n",
       "==============================================================================\n",
       "Dep. Variable:                 lprice   R-squared:                       0.120\n",
       "Model:                            OLS   Adj. R-squared:                  0.117\n",
       "Method:                 Least Squares   F-statistic:                     43.48\n",
       "Date:                Sat, 09 May 2020   Prob (F-statistic):           1.78e-10\n",
       "Time:                        15:36:55   Log-Likelihood:                -169.60\n",
       "No. Observations:                 321   AIC:                             343.2\n",
       "Df Residuals:                     319   BIC:                             350.7\n",
       "Df Model:                           1                                         \n",
       "Covariance Type:            nonrobust                                         \n",
       "==============================================================================\n",
       "                 coef    std err          t      P>|t|      [0.025      0.975]\n",
       "------------------------------------------------------------------------------\n",
       "Intercept      8.2575      0.474     17.427      0.000       7.325       9.190\n",
       "ldist          0.3172      0.048      6.594      0.000       0.223       0.412\n",
       "==============================================================================\n",
       "Omnibus:                        3.073   Durbin-Watson:                   0.944\n",
       "Prob(Omnibus):                  0.215   Jarque-Bera (JB):                2.868\n",
       "Skew:                           0.228   Prob(JB):                        0.238\n",
       "Kurtosis:                       3.079   Cond. No.                         205.\n",
       "==============================================================================\n",
       "\n",
       "Warnings:\n",
       "[1] Standard Errors assume that the covariance matrix of the errors is correctly specified.\n",
       "\"\"\""
      ]
     },
     "execution_count": 30,
     "metadata": {},
     "output_type": "execute_result"
    }
   ],
   "source": [
    "price_dist_model.summary()"
   ]
  },
  {
   "cell_type": "code",
   "execution_count": 31,
   "metadata": {},
   "outputs": [
    {
     "data": {
      "text/html": [
       "<table class=\"simpletable\">\n",
       "<caption>OLS Regression Results</caption>\n",
       "<tr>\n",
       "  <th>Dep. Variable:</th>         <td>lprice</td>      <th>  R-squared:         </th> <td>   0.474</td>\n",
       "</tr>\n",
       "<tr>\n",
       "  <th>Model:</th>                   <td>OLS</td>       <th>  Adj. R-squared:    </th> <td>   0.471</td>\n",
       "</tr>\n",
       "<tr>\n",
       "  <th>Method:</th>             <td>Least Squares</td>  <th>  F-statistic:       </th> <td>   143.2</td>\n",
       "</tr>\n",
       "<tr>\n",
       "  <th>Date:</th>             <td>Sat, 09 May 2020</td> <th>  Prob (F-statistic):</th> <td>4.53e-45</td>\n",
       "</tr>\n",
       "<tr>\n",
       "  <th>Time:</th>                 <td>15:36:55</td>     <th>  Log-Likelihood:    </th> <td> -87.041</td>\n",
       "</tr>\n",
       "<tr>\n",
       "  <th>No. Observations:</th>      <td>   321</td>      <th>  AIC:               </th> <td>   180.1</td>\n",
       "</tr>\n",
       "<tr>\n",
       "  <th>Df Residuals:</th>          <td>   318</td>      <th>  BIC:               </th> <td>   191.4</td>\n",
       "</tr>\n",
       "<tr>\n",
       "  <th>Df Model:</th>              <td>     2</td>      <th>                     </th>     <td> </td>   \n",
       "</tr>\n",
       "<tr>\n",
       "  <th>Covariance Type:</th>      <td>nonrobust</td>    <th>                     </th>     <td> </td>   \n",
       "</tr>\n",
       "</table>\n",
       "<table class=\"simpletable\">\n",
       "<tr>\n",
       "      <td></td>         <th>coef</th>     <th>std err</th>      <th>t</th>      <th>P>|t|</th>  <th>[0.025</th>    <th>0.975]</th>  \n",
       "</tr>\n",
       "<tr>\n",
       "  <th>Intercept</th> <td>    3.4939</td> <td>    0.491</td> <td>    7.121</td> <td> 0.000</td> <td>    2.529</td> <td>    4.459</td>\n",
       "</tr>\n",
       "<tr>\n",
       "  <th>ldist</th>     <td>    0.1962</td> <td>    0.038</td> <td>    5.142</td> <td> 0.000</td> <td>    0.121</td> <td>    0.271</td>\n",
       "</tr>\n",
       "<tr>\n",
       "  <th>larea</th>     <td>    0.7837</td> <td>    0.054</td> <td>   14.625</td> <td> 0.000</td> <td>    0.678</td> <td>    0.889</td>\n",
       "</tr>\n",
       "</table>\n",
       "<table class=\"simpletable\">\n",
       "<tr>\n",
       "  <th>Omnibus:</th>       <td>13.639</td> <th>  Durbin-Watson:     </th> <td>   1.118</td>\n",
       "</tr>\n",
       "<tr>\n",
       "  <th>Prob(Omnibus):</th> <td> 0.001</td> <th>  Jarque-Bera (JB):  </th> <td>  18.845</td>\n",
       "</tr>\n",
       "<tr>\n",
       "  <th>Skew:</th>          <td>-0.334</td> <th>  Prob(JB):          </th> <td>8.09e-05</td>\n",
       "</tr>\n",
       "<tr>\n",
       "  <th>Kurtosis:</th>      <td> 3.982</td> <th>  Cond. No.          </th> <td>    345.</td>\n",
       "</tr>\n",
       "</table><br/><br/>Warnings:<br/>[1] Standard Errors assume that the covariance matrix of the errors is correctly specified."
      ],
      "text/plain": [
       "<class 'statsmodels.iolib.summary.Summary'>\n",
       "\"\"\"\n",
       "                            OLS Regression Results                            \n",
       "==============================================================================\n",
       "Dep. Variable:                 lprice   R-squared:                       0.474\n",
       "Model:                            OLS   Adj. R-squared:                  0.471\n",
       "Method:                 Least Squares   F-statistic:                     143.2\n",
       "Date:                Sat, 09 May 2020   Prob (F-statistic):           4.53e-45\n",
       "Time:                        15:36:55   Log-Likelihood:                -87.041\n",
       "No. Observations:                 321   AIC:                             180.1\n",
       "Df Residuals:                     318   BIC:                             191.4\n",
       "Df Model:                           2                                         \n",
       "Covariance Type:            nonrobust                                         \n",
       "==============================================================================\n",
       "                 coef    std err          t      P>|t|      [0.025      0.975]\n",
       "------------------------------------------------------------------------------\n",
       "Intercept      3.4939      0.491      7.121      0.000       2.529       4.459\n",
       "ldist          0.1962      0.038      5.142      0.000       0.121       0.271\n",
       "larea          0.7837      0.054     14.625      0.000       0.678       0.889\n",
       "==============================================================================\n",
       "Omnibus:                       13.639   Durbin-Watson:                   1.118\n",
       "Prob(Omnibus):                  0.001   Jarque-Bera (JB):               18.845\n",
       "Skew:                          -0.334   Prob(JB):                     8.09e-05\n",
       "Kurtosis:                       3.982   Cond. No.                         345.\n",
       "==============================================================================\n",
       "\n",
       "Warnings:\n",
       "[1] Standard Errors assume that the covariance matrix of the errors is correctly specified.\n",
       "\"\"\""
      ]
     },
     "execution_count": 31,
     "metadata": {},
     "output_type": "execute_result"
    }
   ],
   "source": [
    "price_area_model.summary()"
   ]
  },
  {
   "cell_type": "markdown",
   "metadata": {},
   "source": [
    "## Chapter 6: Multiple Regression: Further Issues\n",
    "\n",
    "### **`Example 6.1:` Effects of Pollution on Housing Prices, standardized.**\n",
    "\n",
    "Load the `hprice2` data and view the documentation."
   ]
  },
  {
   "cell_type": "code",
   "execution_count": 32,
   "metadata": {},
   "outputs": [
    {
     "name": "stdout",
     "output_type": "stream",
     "text": [
      "name of dataset: hprice2\n",
      "no of variables: 12\n",
      "no of observations: 506\n",
      "\n",
      "+----------+-------------------------------+\n",
      "| variable | label                         |\n",
      "+----------+-------------------------------+\n",
      "| price    | median housing price, $       |\n",
      "| crime    | crimes committed per capita   |\n",
      "| nox      | nit ox concen; parts per 100m |\n",
      "| rooms    | avg number of rooms           |\n",
      "| dist     | wght dist to 5 employ centers |\n",
      "| radial   | access. index to rad. hghwys  |\n",
      "| proptax  | property tax per $1000        |\n",
      "| stratio  | average student-teacher ratio |\n",
      "| lowstat  | perc of people 'lower status' |\n",
      "| lprice   | log(price)                    |\n",
      "| lnox     | log(nox)                      |\n",
      "| lproptax | log(proptax)                  |\n",
      "+----------+-------------------------------+\n",
      "\n",
      "D. Harrison and D.L. Rubinfeld (1978), “Hedonic Housing Prices and the\n",
      "Demand for Clean Air,” by Harrison, D. and D.L.Rubinfeld, Journal of\n",
      "Environmental Economics and Management 5, 81-102. Diego Garcia, a\n",
      "former Ph.D. student in economics at MIT, kindly provided these data,\n",
      "which he obtained from the book Regression Diagnostics: Identifying\n",
      "Influential Data and Sources of Collinearity, by D.A. Belsey, E. Kuh,\n",
      "and R. Welsch, 1990. New York: Wiley.\n"
     ]
    }
   ],
   "source": [
    "dataWoo('hprice2', description=True)"
   ]
  },
  {
   "cell_type": "markdown",
   "metadata": {},
   "source": [
    "$$price = \\beta_0 + \\beta_1nox + \\beta_2crime + \\beta_3rooms + \\beta_4dist + \\beta_5stratio + \\mu$$\n",
    "\n",
    "Estimate the usual `lm` model."
   ]
  },
  {
   "cell_type": "code",
   "execution_count": 33,
   "metadata": {},
   "outputs": [],
   "source": [
    "hprice2 = dataWoo('hprice2')\n",
    "housing_level = smf.ols(\"price ~ nox + crime + rooms + dist + stratio\",\n",
    "                        data=hprice2).fit()"
   ]
  },
  {
   "cell_type": "markdown",
   "metadata": {},
   "source": [
    "Estimate the same model, but standardized coefficients by wrapping each variable with R’s scale function:\n",
    "\n",
    "$$\\widehat{zprice} = \\beta_1znox + \\beta_2zcrime + \\beta_3zrooms + \\beta_4zdist + \\beta_5zstratio$$"
   ]
  },
  {
   "cell_type": "code",
   "execution_count": 34,
   "metadata": {},
   "outputs": [],
   "source": [
    "from sklearn.preprocessing import scale\n",
    "\n",
    "zprice = pd.DataFrame({\"zprice\":scale(hprice2[\"price\"])})\n",
    "znox = pd.DataFrame({\"znox\":scale(hprice2[\"nox\"])})\n",
    "zcrime = pd.DataFrame({\"zcrime\":scale(hprice2[\"crime\"])})\n",
    "zrooms = pd.DataFrame({\"zrooms\":scale(hprice2[\"rooms\"])})\n",
    "zdist = pd.DataFrame({\"zdist\":scale(hprice2[\"dist\"])})\n",
    "zstratio = pd.DataFrame({\"zstratio\":scale(hprice2[\"stratio\"])})\n",
    "hprice2 = pd.concat([hprice2, zprice, znox, zcrime, zrooms, zdist, zstratio],axis=1)\n",
    "\n",
    "housing_standardized = smf.ols(\"zprice ~ znox + zcrime + zrooms + zdist + zstratio\"\n",
    "                               , data = hprice2).fit()"
   ]
  },
  {
   "cell_type": "code",
   "execution_count": 35,
   "metadata": {},
   "outputs": [
    {
     "data": {
      "text/html": [
       "<table class=\"simpletable\">\n",
       "<caption>OLS Regression Results</caption>\n",
       "<tr>\n",
       "  <th>Dep. Variable:</th>          <td>price</td>      <th>  R-squared:         </th> <td>   0.636</td> \n",
       "</tr>\n",
       "<tr>\n",
       "  <th>Model:</th>                   <td>OLS</td>       <th>  Adj. R-squared:    </th> <td>   0.632</td> \n",
       "</tr>\n",
       "<tr>\n",
       "  <th>Method:</th>             <td>Least Squares</td>  <th>  F-statistic:       </th> <td>   174.5</td> \n",
       "</tr>\n",
       "<tr>\n",
       "  <th>Date:</th>             <td>Sat, 09 May 2020</td> <th>  Prob (F-statistic):</th> <td>3.61e-107</td>\n",
       "</tr>\n",
       "<tr>\n",
       "  <th>Time:</th>                 <td>15:36:56</td>     <th>  Log-Likelihood:    </th> <td> -5080.8</td> \n",
       "</tr>\n",
       "<tr>\n",
       "  <th>No. Observations:</th>      <td>   506</td>      <th>  AIC:               </th> <td>1.017e+04</td>\n",
       "</tr>\n",
       "<tr>\n",
       "  <th>Df Residuals:</th>          <td>   500</td>      <th>  BIC:               </th> <td>1.020e+04</td>\n",
       "</tr>\n",
       "<tr>\n",
       "  <th>Df Model:</th>              <td>     5</td>      <th>                     </th>     <td> </td>    \n",
       "</tr>\n",
       "<tr>\n",
       "  <th>Covariance Type:</th>      <td>nonrobust</td>    <th>                     </th>     <td> </td>    \n",
       "</tr>\n",
       "</table>\n",
       "<table class=\"simpletable\">\n",
       "<tr>\n",
       "      <td></td>         <th>coef</th>     <th>std err</th>      <th>t</th>      <th>P>|t|</th>  <th>[0.025</th>    <th>0.975]</th>  \n",
       "</tr>\n",
       "<tr>\n",
       "  <th>Intercept</th> <td> 2.087e+04</td> <td> 5054.599</td> <td>    4.129</td> <td> 0.000</td> <td> 1.09e+04</td> <td> 3.08e+04</td>\n",
       "</tr>\n",
       "<tr>\n",
       "  <th>nox</th>       <td>-2706.4326</td> <td>  354.087</td> <td>   -7.643</td> <td> 0.000</td> <td>-3402.114</td> <td>-2010.751</td>\n",
       "</tr>\n",
       "<tr>\n",
       "  <th>crime</th>     <td> -153.6010</td> <td>   32.929</td> <td>   -4.665</td> <td> 0.000</td> <td> -218.297</td> <td>  -88.905</td>\n",
       "</tr>\n",
       "<tr>\n",
       "  <th>rooms</th>     <td> 6735.4983</td> <td>  393.604</td> <td>   17.112</td> <td> 0.000</td> <td> 5962.177</td> <td> 7508.819</td>\n",
       "</tr>\n",
       "<tr>\n",
       "  <th>dist</th>      <td>-1026.8063</td> <td>  188.108</td> <td>   -5.459</td> <td> 0.000</td> <td>-1396.386</td> <td> -657.227</td>\n",
       "</tr>\n",
       "<tr>\n",
       "  <th>stratio</th>   <td>-1149.2038</td> <td>  127.429</td> <td>   -9.018</td> <td> 0.000</td> <td>-1399.566</td> <td> -898.842</td>\n",
       "</tr>\n",
       "</table>\n",
       "<table class=\"simpletable\">\n",
       "<tr>\n",
       "  <th>Omnibus:</th>       <td>272.145</td> <th>  Durbin-Watson:     </th> <td>   0.865</td>\n",
       "</tr>\n",
       "<tr>\n",
       "  <th>Prob(Omnibus):</th> <td> 0.000</td>  <th>  Jarque-Bera (JB):  </th> <td>2647.578</td>\n",
       "</tr>\n",
       "<tr>\n",
       "  <th>Skew:</th>          <td> 2.150</td>  <th>  Prob(JB):          </th> <td>    0.00</td>\n",
       "</tr>\n",
       "<tr>\n",
       "  <th>Kurtosis:</th>      <td>13.348</td>  <th>  Cond. No.          </th> <td>    432.</td>\n",
       "</tr>\n",
       "</table><br/><br/>Warnings:<br/>[1] Standard Errors assume that the covariance matrix of the errors is correctly specified."
      ],
      "text/plain": [
       "<class 'statsmodels.iolib.summary.Summary'>\n",
       "\"\"\"\n",
       "                            OLS Regression Results                            \n",
       "==============================================================================\n",
       "Dep. Variable:                  price   R-squared:                       0.636\n",
       "Model:                            OLS   Adj. R-squared:                  0.632\n",
       "Method:                 Least Squares   F-statistic:                     174.5\n",
       "Date:                Sat, 09 May 2020   Prob (F-statistic):          3.61e-107\n",
       "Time:                        15:36:56   Log-Likelihood:                -5080.8\n",
       "No. Observations:                 506   AIC:                         1.017e+04\n",
       "Df Residuals:                     500   BIC:                         1.020e+04\n",
       "Df Model:                           5                                         \n",
       "Covariance Type:            nonrobust                                         \n",
       "==============================================================================\n",
       "                 coef    std err          t      P>|t|      [0.025      0.975]\n",
       "------------------------------------------------------------------------------\n",
       "Intercept   2.087e+04   5054.599      4.129      0.000    1.09e+04    3.08e+04\n",
       "nox        -2706.4326    354.087     -7.643      0.000   -3402.114   -2010.751\n",
       "crime       -153.6010     32.929     -4.665      0.000    -218.297     -88.905\n",
       "rooms       6735.4983    393.604     17.112      0.000    5962.177    7508.819\n",
       "dist       -1026.8063    188.108     -5.459      0.000   -1396.386    -657.227\n",
       "stratio    -1149.2038    127.429     -9.018      0.000   -1399.566    -898.842\n",
       "==============================================================================\n",
       "Omnibus:                      272.145   Durbin-Watson:                   0.865\n",
       "Prob(Omnibus):                  0.000   Jarque-Bera (JB):             2647.578\n",
       "Skew:                           2.150   Prob(JB):                         0.00\n",
       "Kurtosis:                      13.348   Cond. No.                         432.\n",
       "==============================================================================\n",
       "\n",
       "Warnings:\n",
       "[1] Standard Errors assume that the covariance matrix of the errors is correctly specified.\n",
       "\"\"\""
      ]
     },
     "execution_count": 35,
     "metadata": {},
     "output_type": "execute_result"
    }
   ],
   "source": [
    "housing_level.summary()"
   ]
  },
  {
   "cell_type": "code",
   "execution_count": 36,
   "metadata": {},
   "outputs": [
    {
     "data": {
      "text/html": [
       "<table class=\"simpletable\">\n",
       "<caption>OLS Regression Results</caption>\n",
       "<tr>\n",
       "  <th>Dep. Variable:</th>         <td>zprice</td>      <th>  R-squared:         </th> <td>   0.636</td> \n",
       "</tr>\n",
       "<tr>\n",
       "  <th>Model:</th>                   <td>OLS</td>       <th>  Adj. R-squared:    </th> <td>   0.632</td> \n",
       "</tr>\n",
       "<tr>\n",
       "  <th>Method:</th>             <td>Least Squares</td>  <th>  F-statistic:       </th> <td>   174.5</td> \n",
       "</tr>\n",
       "<tr>\n",
       "  <th>Date:</th>             <td>Sat, 09 May 2020</td> <th>  Prob (F-statistic):</th> <td>3.61e-107</td>\n",
       "</tr>\n",
       "<tr>\n",
       "  <th>Time:</th>                 <td>15:36:56</td>     <th>  Log-Likelihood:    </th> <td> -462.53</td> \n",
       "</tr>\n",
       "<tr>\n",
       "  <th>No. Observations:</th>      <td>   506</td>      <th>  AIC:               </th> <td>   937.1</td> \n",
       "</tr>\n",
       "<tr>\n",
       "  <th>Df Residuals:</th>          <td>   500</td>      <th>  BIC:               </th> <td>   962.4</td> \n",
       "</tr>\n",
       "<tr>\n",
       "  <th>Df Model:</th>              <td>     5</td>      <th>                     </th>     <td> </td>    \n",
       "</tr>\n",
       "<tr>\n",
       "  <th>Covariance Type:</th>      <td>nonrobust</td>    <th>                     </th>     <td> </td>    \n",
       "</tr>\n",
       "</table>\n",
       "<table class=\"simpletable\">\n",
       "<tr>\n",
       "      <td></td>         <th>coef</th>     <th>std err</th>      <th>t</th>      <th>P>|t|</th>  <th>[0.025</th>    <th>0.975]</th>  \n",
       "</tr>\n",
       "<tr>\n",
       "  <th>Intercept</th> <td> 9.368e-17</td> <td>    0.027</td> <td> 3.47e-15</td> <td> 1.000</td> <td>   -0.053</td> <td>    0.053</td>\n",
       "</tr>\n",
       "<tr>\n",
       "  <th>znox</th>      <td>   -0.3404</td> <td>    0.045</td> <td>   -7.643</td> <td> 0.000</td> <td>   -0.428</td> <td>   -0.253</td>\n",
       "</tr>\n",
       "<tr>\n",
       "  <th>zcrime</th>    <td>   -0.1433</td> <td>    0.031</td> <td>   -4.665</td> <td> 0.000</td> <td>   -0.204</td> <td>   -0.083</td>\n",
       "</tr>\n",
       "<tr>\n",
       "  <th>zrooms</th>    <td>    0.5139</td> <td>    0.030</td> <td>   17.112</td> <td> 0.000</td> <td>    0.455</td> <td>    0.573</td>\n",
       "</tr>\n",
       "<tr>\n",
       "  <th>zdist</th>     <td>   -0.2348</td> <td>    0.043</td> <td>   -5.459</td> <td> 0.000</td> <td>   -0.319</td> <td>   -0.150</td>\n",
       "</tr>\n",
       "<tr>\n",
       "  <th>zstratio</th>  <td>   -0.2703</td> <td>    0.030</td> <td>   -9.018</td> <td> 0.000</td> <td>   -0.329</td> <td>   -0.211</td>\n",
       "</tr>\n",
       "</table>\n",
       "<table class=\"simpletable\">\n",
       "<tr>\n",
       "  <th>Omnibus:</th>       <td>272.145</td> <th>  Durbin-Watson:     </th> <td>   0.865</td>\n",
       "</tr>\n",
       "<tr>\n",
       "  <th>Prob(Omnibus):</th> <td> 0.000</td>  <th>  Jarque-Bera (JB):  </th> <td>2647.578</td>\n",
       "</tr>\n",
       "<tr>\n",
       "  <th>Skew:</th>          <td> 2.150</td>  <th>  Prob(JB):          </th> <td>    0.00</td>\n",
       "</tr>\n",
       "<tr>\n",
       "  <th>Kurtosis:</th>      <td>13.348</td>  <th>  Cond. No.          </th> <td>    3.33</td>\n",
       "</tr>\n",
       "</table><br/><br/>Warnings:<br/>[1] Standard Errors assume that the covariance matrix of the errors is correctly specified."
      ],
      "text/plain": [
       "<class 'statsmodels.iolib.summary.Summary'>\n",
       "\"\"\"\n",
       "                            OLS Regression Results                            \n",
       "==============================================================================\n",
       "Dep. Variable:                 zprice   R-squared:                       0.636\n",
       "Model:                            OLS   Adj. R-squared:                  0.632\n",
       "Method:                 Least Squares   F-statistic:                     174.5\n",
       "Date:                Sat, 09 May 2020   Prob (F-statistic):          3.61e-107\n",
       "Time:                        15:36:56   Log-Likelihood:                -462.53\n",
       "No. Observations:                 506   AIC:                             937.1\n",
       "Df Residuals:                     500   BIC:                             962.4\n",
       "Df Model:                           5                                         \n",
       "Covariance Type:            nonrobust                                         \n",
       "==============================================================================\n",
       "                 coef    std err          t      P>|t|      [0.025      0.975]\n",
       "------------------------------------------------------------------------------\n",
       "Intercept   9.368e-17      0.027   3.47e-15      1.000      -0.053       0.053\n",
       "znox          -0.3404      0.045     -7.643      0.000      -0.428      -0.253\n",
       "zcrime        -0.1433      0.031     -4.665      0.000      -0.204      -0.083\n",
       "zrooms         0.5139      0.030     17.112      0.000       0.455       0.573\n",
       "zdist         -0.2348      0.043     -5.459      0.000      -0.319      -0.150\n",
       "zstratio      -0.2703      0.030     -9.018      0.000      -0.329      -0.211\n",
       "==============================================================================\n",
       "Omnibus:                      272.145   Durbin-Watson:                   0.865\n",
       "Prob(Omnibus):                  0.000   Jarque-Bera (JB):             2647.578\n",
       "Skew:                           2.150   Prob(JB):                         0.00\n",
       "Kurtosis:                      13.348   Cond. No.                         3.33\n",
       "==============================================================================\n",
       "\n",
       "Warnings:\n",
       "[1] Standard Errors assume that the covariance matrix of the errors is correctly specified.\n",
       "\"\"\""
      ]
     },
     "execution_count": 36,
     "metadata": {},
     "output_type": "execute_result"
    }
   ],
   "source": [
    "housing_standardized.summary()"
   ]
  },
  {
   "cell_type": "markdown",
   "metadata": {},
   "source": [
    "### **`Example 6.2:` Effects of Pollution on Housing Prices, Quadratic Interactive Term**\n",
    "\n",
    "Modify the housing model from **`example 4.5`**, adding a quadratic term in _rooms_: \n",
    "\n",
    "$$log(price) = \\beta_0 + \\beta_1log(nox) + \\beta_2log(dist) + \\beta_3rooms + \\beta_4rooms^2 + \\beta_5stratio + \\mu$$"
   ]
  },
  {
   "cell_type": "code",
   "execution_count": 37,
   "metadata": {},
   "outputs": [],
   "source": [
    "ldist = pd.DataFrame({\"ldist\":np.log(hprice2[\"dist\"])})\n",
    "roomssq = pd.DataFrame({\"roomssq\":hprice2[\"rooms\"]**2})\n",
    "hprice2 = pd.concat([hprice2, ldist, roomssq],axis=1)\n",
    "\n",
    "housing_model_4_5 = smf.ols(\"lprice ~ lnox + ldist + rooms + stratio\"\n",
    "                            , data=hprice2).fit()\n",
    "housing_model_6_2 = smf.ols(\"lprice ~ lnox + ldist + rooms + roomssq + stratio\"\n",
    "                            , data=hprice2).fit()"
   ]
  },
  {
   "cell_type": "code",
   "execution_count": 38,
   "metadata": {},
   "outputs": [
    {
     "data": {
      "text/html": [
       "<table class=\"simpletable\">\n",
       "<caption>OLS Regression Results</caption>\n",
       "<tr>\n",
       "  <th>Dep. Variable:</th>         <td>lprice</td>      <th>  R-squared:         </th> <td>   0.584</td>\n",
       "</tr>\n",
       "<tr>\n",
       "  <th>Model:</th>                   <td>OLS</td>       <th>  Adj. R-squared:    </th> <td>   0.581</td>\n",
       "</tr>\n",
       "<tr>\n",
       "  <th>Method:</th>             <td>Least Squares</td>  <th>  F-statistic:       </th> <td>   175.9</td>\n",
       "</tr>\n",
       "<tr>\n",
       "  <th>Date:</th>             <td>Sat, 09 May 2020</td> <th>  Prob (F-statistic):</th> <td>5.53e-94</td>\n",
       "</tr>\n",
       "<tr>\n",
       "  <th>Time:</th>                 <td>15:36:56</td>     <th>  Log-Likelihood:    </th> <td> -43.495</td>\n",
       "</tr>\n",
       "<tr>\n",
       "  <th>No. Observations:</th>      <td>   506</td>      <th>  AIC:               </th> <td>   96.99</td>\n",
       "</tr>\n",
       "<tr>\n",
       "  <th>Df Residuals:</th>          <td>   501</td>      <th>  BIC:               </th> <td>   118.1</td>\n",
       "</tr>\n",
       "<tr>\n",
       "  <th>Df Model:</th>              <td>     4</td>      <th>                     </th>     <td> </td>   \n",
       "</tr>\n",
       "<tr>\n",
       "  <th>Covariance Type:</th>      <td>nonrobust</td>    <th>                     </th>     <td> </td>   \n",
       "</tr>\n",
       "</table>\n",
       "<table class=\"simpletable\">\n",
       "<tr>\n",
       "      <td></td>         <th>coef</th>     <th>std err</th>      <th>t</th>      <th>P>|t|</th>  <th>[0.025</th>    <th>0.975]</th>  \n",
       "</tr>\n",
       "<tr>\n",
       "  <th>Intercept</th> <td>   11.0839</td> <td>    0.318</td> <td>   34.843</td> <td> 0.000</td> <td>   10.459</td> <td>   11.709</td>\n",
       "</tr>\n",
       "<tr>\n",
       "  <th>lnox</th>      <td>   -0.9535</td> <td>    0.117</td> <td>   -8.168</td> <td> 0.000</td> <td>   -1.183</td> <td>   -0.724</td>\n",
       "</tr>\n",
       "<tr>\n",
       "  <th>ldist</th>     <td>   -0.1343</td> <td>    0.043</td> <td>   -3.117</td> <td> 0.002</td> <td>   -0.219</td> <td>   -0.050</td>\n",
       "</tr>\n",
       "<tr>\n",
       "  <th>rooms</th>     <td>    0.2545</td> <td>    0.019</td> <td>   13.736</td> <td> 0.000</td> <td>    0.218</td> <td>    0.291</td>\n",
       "</tr>\n",
       "<tr>\n",
       "  <th>stratio</th>   <td>   -0.0525</td> <td>    0.006</td> <td>   -8.894</td> <td> 0.000</td> <td>   -0.064</td> <td>   -0.041</td>\n",
       "</tr>\n",
       "</table>\n",
       "<table class=\"simpletable\">\n",
       "<tr>\n",
       "  <th>Omnibus:</th>       <td>61.317</td> <th>  Durbin-Watson:     </th> <td>   0.682</td> \n",
       "</tr>\n",
       "<tr>\n",
       "  <th>Prob(Omnibus):</th> <td> 0.000</td> <th>  Jarque-Bera (JB):  </th> <td> 480.143</td> \n",
       "</tr>\n",
       "<tr>\n",
       "  <th>Skew:</th>          <td> 0.051</td> <th>  Prob(JB):          </th> <td>5.47e-105</td>\n",
       "</tr>\n",
       "<tr>\n",
       "  <th>Kurtosis:</th>      <td> 7.771</td> <th>  Cond. No.          </th> <td>    560.</td> \n",
       "</tr>\n",
       "</table><br/><br/>Warnings:<br/>[1] Standard Errors assume that the covariance matrix of the errors is correctly specified."
      ],
      "text/plain": [
       "<class 'statsmodels.iolib.summary.Summary'>\n",
       "\"\"\"\n",
       "                            OLS Regression Results                            \n",
       "==============================================================================\n",
       "Dep. Variable:                 lprice   R-squared:                       0.584\n",
       "Model:                            OLS   Adj. R-squared:                  0.581\n",
       "Method:                 Least Squares   F-statistic:                     175.9\n",
       "Date:                Sat, 09 May 2020   Prob (F-statistic):           5.53e-94\n",
       "Time:                        15:36:56   Log-Likelihood:                -43.495\n",
       "No. Observations:                 506   AIC:                             96.99\n",
       "Df Residuals:                     501   BIC:                             118.1\n",
       "Df Model:                           4                                         \n",
       "Covariance Type:            nonrobust                                         \n",
       "==============================================================================\n",
       "                 coef    std err          t      P>|t|      [0.025      0.975]\n",
       "------------------------------------------------------------------------------\n",
       "Intercept     11.0839      0.318     34.843      0.000      10.459      11.709\n",
       "lnox          -0.9535      0.117     -8.168      0.000      -1.183      -0.724\n",
       "ldist         -0.1343      0.043     -3.117      0.002      -0.219      -0.050\n",
       "rooms          0.2545      0.019     13.736      0.000       0.218       0.291\n",
       "stratio       -0.0525      0.006     -8.894      0.000      -0.064      -0.041\n",
       "==============================================================================\n",
       "Omnibus:                       61.317   Durbin-Watson:                   0.682\n",
       "Prob(Omnibus):                  0.000   Jarque-Bera (JB):              480.143\n",
       "Skew:                           0.051   Prob(JB):                    5.47e-105\n",
       "Kurtosis:                       7.771   Cond. No.                         560.\n",
       "==============================================================================\n",
       "\n",
       "Warnings:\n",
       "[1] Standard Errors assume that the covariance matrix of the errors is correctly specified.\n",
       "\"\"\""
      ]
     },
     "execution_count": 38,
     "metadata": {},
     "output_type": "execute_result"
    }
   ],
   "source": [
    "housing_model_4_5.summary()"
   ]
  },
  {
   "cell_type": "code",
   "execution_count": 39,
   "metadata": {},
   "outputs": [
    {
     "data": {
      "text/html": [
       "<table class=\"simpletable\">\n",
       "<caption>OLS Regression Results</caption>\n",
       "<tr>\n",
       "  <th>Dep. Variable:</th>         <td>lprice</td>      <th>  R-squared:         </th> <td>   0.603</td>\n",
       "</tr>\n",
       "<tr>\n",
       "  <th>Model:</th>                   <td>OLS</td>       <th>  Adj. R-squared:    </th> <td>   0.599</td>\n",
       "</tr>\n",
       "<tr>\n",
       "  <th>Method:</th>             <td>Least Squares</td>  <th>  F-statistic:       </th> <td>   151.8</td>\n",
       "</tr>\n",
       "<tr>\n",
       "  <th>Date:</th>             <td>Sat, 09 May 2020</td> <th>  Prob (F-statistic):</th> <td>7.89e-98</td>\n",
       "</tr>\n",
       "<tr>\n",
       "  <th>Time:</th>                 <td>15:36:56</td>     <th>  Log-Likelihood:    </th> <td> -31.806</td>\n",
       "</tr>\n",
       "<tr>\n",
       "  <th>No. Observations:</th>      <td>   506</td>      <th>  AIC:               </th> <td>   75.61</td>\n",
       "</tr>\n",
       "<tr>\n",
       "  <th>Df Residuals:</th>          <td>   500</td>      <th>  BIC:               </th> <td>   101.0</td>\n",
       "</tr>\n",
       "<tr>\n",
       "  <th>Df Model:</th>              <td>     5</td>      <th>                     </th>     <td> </td>   \n",
       "</tr>\n",
       "<tr>\n",
       "  <th>Covariance Type:</th>      <td>nonrobust</td>    <th>                     </th>     <td> </td>   \n",
       "</tr>\n",
       "</table>\n",
       "<table class=\"simpletable\">\n",
       "<tr>\n",
       "      <td></td>         <th>coef</th>     <th>std err</th>      <th>t</th>      <th>P>|t|</th>  <th>[0.025</th>    <th>0.975]</th>  \n",
       "</tr>\n",
       "<tr>\n",
       "  <th>Intercept</th> <td>   13.3855</td> <td>    0.566</td> <td>   23.630</td> <td> 0.000</td> <td>   12.273</td> <td>   14.498</td>\n",
       "</tr>\n",
       "<tr>\n",
       "  <th>lnox</th>      <td>   -0.9017</td> <td>    0.115</td> <td>   -7.862</td> <td> 0.000</td> <td>   -1.127</td> <td>   -0.676</td>\n",
       "</tr>\n",
       "<tr>\n",
       "  <th>ldist</th>     <td>   -0.0868</td> <td>    0.043</td> <td>   -2.005</td> <td> 0.045</td> <td>   -0.172</td> <td>   -0.002</td>\n",
       "</tr>\n",
       "<tr>\n",
       "  <th>rooms</th>     <td>   -0.5451</td> <td>    0.165</td> <td>   -3.295</td> <td> 0.001</td> <td>   -0.870</td> <td>   -0.220</td>\n",
       "</tr>\n",
       "<tr>\n",
       "  <th>roomssq</th>   <td>    0.0623</td> <td>    0.013</td> <td>    4.862</td> <td> 0.000</td> <td>    0.037</td> <td>    0.087</td>\n",
       "</tr>\n",
       "<tr>\n",
       "  <th>stratio</th>   <td>   -0.0476</td> <td>    0.006</td> <td>   -8.129</td> <td> 0.000</td> <td>   -0.059</td> <td>   -0.036</td>\n",
       "</tr>\n",
       "</table>\n",
       "<table class=\"simpletable\">\n",
       "<tr>\n",
       "  <th>Omnibus:</th>       <td>56.649</td> <th>  Durbin-Watson:     </th> <td>   0.691</td>\n",
       "</tr>\n",
       "<tr>\n",
       "  <th>Prob(Omnibus):</th> <td> 0.000</td> <th>  Jarque-Bera (JB):  </th> <td> 384.168</td>\n",
       "</tr>\n",
       "<tr>\n",
       "  <th>Skew:</th>          <td>-0.100</td> <th>  Prob(JB):          </th> <td>3.79e-84</td>\n",
       "</tr>\n",
       "<tr>\n",
       "  <th>Kurtosis:</th>      <td> 7.264</td> <th>  Cond. No.          </th> <td>2.30e+03</td>\n",
       "</tr>\n",
       "</table><br/><br/>Warnings:<br/>[1] Standard Errors assume that the covariance matrix of the errors is correctly specified.<br/>[2] The condition number is large, 2.3e+03. This might indicate that there are<br/>strong multicollinearity or other numerical problems."
      ],
      "text/plain": [
       "<class 'statsmodels.iolib.summary.Summary'>\n",
       "\"\"\"\n",
       "                            OLS Regression Results                            \n",
       "==============================================================================\n",
       "Dep. Variable:                 lprice   R-squared:                       0.603\n",
       "Model:                            OLS   Adj. R-squared:                  0.599\n",
       "Method:                 Least Squares   F-statistic:                     151.8\n",
       "Date:                Sat, 09 May 2020   Prob (F-statistic):           7.89e-98\n",
       "Time:                        15:36:56   Log-Likelihood:                -31.806\n",
       "No. Observations:                 506   AIC:                             75.61\n",
       "Df Residuals:                     500   BIC:                             101.0\n",
       "Df Model:                           5                                         \n",
       "Covariance Type:            nonrobust                                         \n",
       "==============================================================================\n",
       "                 coef    std err          t      P>|t|      [0.025      0.975]\n",
       "------------------------------------------------------------------------------\n",
       "Intercept     13.3855      0.566     23.630      0.000      12.273      14.498\n",
       "lnox          -0.9017      0.115     -7.862      0.000      -1.127      -0.676\n",
       "ldist         -0.0868      0.043     -2.005      0.045      -0.172      -0.002\n",
       "rooms         -0.5451      0.165     -3.295      0.001      -0.870      -0.220\n",
       "roomssq        0.0623      0.013      4.862      0.000       0.037       0.087\n",
       "stratio       -0.0476      0.006     -8.129      0.000      -0.059      -0.036\n",
       "==============================================================================\n",
       "Omnibus:                       56.649   Durbin-Watson:                   0.691\n",
       "Prob(Omnibus):                  0.000   Jarque-Bera (JB):              384.168\n",
       "Skew:                          -0.100   Prob(JB):                     3.79e-84\n",
       "Kurtosis:                       7.264   Cond. No.                     2.30e+03\n",
       "==============================================================================\n",
       "\n",
       "Warnings:\n",
       "[1] Standard Errors assume that the covariance matrix of the errors is correctly specified.\n",
       "[2] The condition number is large, 2.3e+03. This might indicate that there are\n",
       "strong multicollinearity or other numerical problems.\n",
       "\"\"\""
      ]
     },
     "execution_count": 39,
     "metadata": {},
     "output_type": "execute_result"
    }
   ],
   "source": [
    "housing_model_6_2.summary()"
   ]
  },
  {
   "cell_type": "markdown",
   "metadata": {},
   "source": [
    "## Chapter 7: Multiple Regression Analysis with Qualitative Information \n",
    "\n",
    "### **`Example 7.4:` Housing Price Regression, Qualitative Binary variable**\n",
    "\n",
    "This time, use the `hrprice1` data. "
   ]
  },
  {
   "cell_type": "code",
   "execution_count": 40,
   "metadata": {},
   "outputs": [
    {
     "name": "stdout",
     "output_type": "stream",
     "text": [
      "name of dataset: hprice1\n",
      "no of variables: 10\n",
      "no of observations: 88\n",
      "\n",
      "+----------+------------------------------+\n",
      "| variable | label                        |\n",
      "+----------+------------------------------+\n",
      "| price    | house price, $1000s          |\n",
      "| assess   | assessed value, $1000s       |\n",
      "| bdrms    | number of bdrms              |\n",
      "| lotsize  | size of lot in square feet   |\n",
      "| sqrft    | size of house in square feet |\n",
      "| colonial | =1 if home is colonial style |\n",
      "| lprice   | log(price)                   |\n",
      "| lassess  | log(assess                   |\n",
      "| llotsize | log(lotsize)                 |\n",
      "| lsqrft   | log(sqrft)                   |\n",
      "+----------+------------------------------+\n",
      "\n",
      "Collected from the real estate pages of the Boston Globe during 1990.\n",
      "These are homes that sold in the Boston, MA area.\n"
     ]
    }
   ],
   "source": [
    "dataWoo('hprice1', description=True)"
   ]
  },
  {
   "cell_type": "markdown",
   "metadata": {},
   "source": [
    "$$\\widehat{log(price)} = \\beta_0 + \\beta_1log(lotsize) + \\beta_2log(sqrft) + \\beta_3bdrms + \\beta_4colonial $$\n",
    "\n",
    "Estimate the coefficients of the above linear model on the `hprice` data set."
   ]
  },
  {
   "cell_type": "code",
   "execution_count": 41,
   "metadata": {},
   "outputs": [
    {
     "data": {
      "text/html": [
       "<table class=\"simpletable\">\n",
       "<caption>OLS Regression Results</caption>\n",
       "<tr>\n",
       "  <th>Dep. Variable:</th>         <td>lprice</td>      <th>  R-squared:         </th> <td>   0.649</td>\n",
       "</tr>\n",
       "<tr>\n",
       "  <th>Model:</th>                   <td>OLS</td>       <th>  Adj. R-squared:    </th> <td>   0.632</td>\n",
       "</tr>\n",
       "<tr>\n",
       "  <th>Method:</th>             <td>Least Squares</td>  <th>  F-statistic:       </th> <td>   38.38</td>\n",
       "</tr>\n",
       "<tr>\n",
       "  <th>Date:</th>             <td>Sat, 09 May 2020</td> <th>  Prob (F-statistic):</th> <td>3.74e-18</td>\n",
       "</tr>\n",
       "<tr>\n",
       "  <th>Time:</th>                 <td>15:36:56</td>     <th>  Log-Likelihood:    </th> <td>  26.619</td>\n",
       "</tr>\n",
       "<tr>\n",
       "  <th>No. Observations:</th>      <td>    88</td>      <th>  AIC:               </th> <td>  -43.24</td>\n",
       "</tr>\n",
       "<tr>\n",
       "  <th>Df Residuals:</th>          <td>    83</td>      <th>  BIC:               </th> <td>  -30.85</td>\n",
       "</tr>\n",
       "<tr>\n",
       "  <th>Df Model:</th>              <td>     4</td>      <th>                     </th>     <td> </td>   \n",
       "</tr>\n",
       "<tr>\n",
       "  <th>Covariance Type:</th>      <td>nonrobust</td>    <th>                     </th>     <td> </td>   \n",
       "</tr>\n",
       "</table>\n",
       "<table class=\"simpletable\">\n",
       "<tr>\n",
       "      <td></td>         <th>coef</th>     <th>std err</th>      <th>t</th>      <th>P>|t|</th>  <th>[0.025</th>    <th>0.975]</th>  \n",
       "</tr>\n",
       "<tr>\n",
       "  <th>Intercept</th> <td>   -1.3496</td> <td>    0.651</td> <td>   -2.073</td> <td> 0.041</td> <td>   -2.644</td> <td>   -0.055</td>\n",
       "</tr>\n",
       "<tr>\n",
       "  <th>llotsize</th>  <td>    0.1678</td> <td>    0.038</td> <td>    4.395</td> <td> 0.000</td> <td>    0.092</td> <td>    0.244</td>\n",
       "</tr>\n",
       "<tr>\n",
       "  <th>lsqrft</th>    <td>    0.7072</td> <td>    0.093</td> <td>    7.620</td> <td> 0.000</td> <td>    0.523</td> <td>    0.892</td>\n",
       "</tr>\n",
       "<tr>\n",
       "  <th>bdrms</th>     <td>    0.0268</td> <td>    0.029</td> <td>    0.934</td> <td> 0.353</td> <td>   -0.030</td> <td>    0.084</td>\n",
       "</tr>\n",
       "<tr>\n",
       "  <th>colonial</th>  <td>    0.0538</td> <td>    0.045</td> <td>    1.202</td> <td> 0.233</td> <td>   -0.035</td> <td>    0.143</td>\n",
       "</tr>\n",
       "</table>\n",
       "<table class=\"simpletable\">\n",
       "<tr>\n",
       "  <th>Omnibus:</th>       <td>13.728</td> <th>  Durbin-Watson:     </th> <td>   2.077</td>\n",
       "</tr>\n",
       "<tr>\n",
       "  <th>Prob(Omnibus):</th> <td> 0.001</td> <th>  Jarque-Bera (JB):  </th> <td>  50.828</td>\n",
       "</tr>\n",
       "<tr>\n",
       "  <th>Skew:</th>          <td>-0.053</td> <th>  Prob(JB):          </th> <td>9.18e-12</td>\n",
       "</tr>\n",
       "<tr>\n",
       "  <th>Kurtosis:</th>      <td> 6.722</td> <th>  Cond. No.          </th> <td>    411.</td>\n",
       "</tr>\n",
       "</table><br/><br/>Warnings:<br/>[1] Standard Errors assume that the covariance matrix of the errors is correctly specified."
      ],
      "text/plain": [
       "<class 'statsmodels.iolib.summary.Summary'>\n",
       "\"\"\"\n",
       "                            OLS Regression Results                            \n",
       "==============================================================================\n",
       "Dep. Variable:                 lprice   R-squared:                       0.649\n",
       "Model:                            OLS   Adj. R-squared:                  0.632\n",
       "Method:                 Least Squares   F-statistic:                     38.38\n",
       "Date:                Sat, 09 May 2020   Prob (F-statistic):           3.74e-18\n",
       "Time:                        15:36:56   Log-Likelihood:                 26.619\n",
       "No. Observations:                  88   AIC:                            -43.24\n",
       "Df Residuals:                      83   BIC:                            -30.85\n",
       "Df Model:                           4                                         \n",
       "Covariance Type:            nonrobust                                         \n",
       "==============================================================================\n",
       "                 coef    std err          t      P>|t|      [0.025      0.975]\n",
       "------------------------------------------------------------------------------\n",
       "Intercept     -1.3496      0.651     -2.073      0.041      -2.644      -0.055\n",
       "llotsize       0.1678      0.038      4.395      0.000       0.092       0.244\n",
       "lsqrft         0.7072      0.093      7.620      0.000       0.523       0.892\n",
       "bdrms          0.0268      0.029      0.934      0.353      -0.030       0.084\n",
       "colonial       0.0538      0.045      1.202      0.233      -0.035       0.143\n",
       "==============================================================================\n",
       "Omnibus:                       13.728   Durbin-Watson:                   2.077\n",
       "Prob(Omnibus):                  0.001   Jarque-Bera (JB):               50.828\n",
       "Skew:                          -0.053   Prob(JB):                     9.18e-12\n",
       "Kurtosis:                       6.722   Cond. No.                         411.\n",
       "==============================================================================\n",
       "\n",
       "Warnings:\n",
       "[1] Standard Errors assume that the covariance matrix of the errors is correctly specified.\n",
       "\"\"\""
      ]
     },
     "execution_count": 41,
     "metadata": {},
     "output_type": "execute_result"
    }
   ],
   "source": [
    "hprice1 = dataWoo('hprice1')\n",
    "housing_qualitative = smf.ols(\"lprice ~ llotsize + lsqrft + bdrms + colonial\",\n",
    "                              data=hprice1).fit()\n",
    "housing_qualitative.summary()"
   ]
  },
  {
   "cell_type": "markdown",
   "metadata": {},
   "source": [
    "## Chapter 8: Heteroskedasticity\n",
    "\n",
    "### **`Example 8.9:` Determinants of Personal Computer Ownership**\n",
    "\n",
    "$$\\widehat{PC} = \\beta_0 + \\beta_1hsGPA + \\beta_2ACT + \\beta_3parcoll + \\beta_4colonial $$\n",
    "Christopher Lemmon, a former MSU undergraduate, collected these data from a survey he took of MSU students in Fall 1994. Load `gpa1` and create a new variable combining the `fathcoll` and `mothcoll`, into `parcoll`. This new column indicates if either parent went to college."
   ]
  },
  {
   "cell_type": "code",
   "execution_count": 42,
   "metadata": {},
   "outputs": [
    {
     "name": "stdout",
     "output_type": "stream",
     "text": [
      "name of dataset: gpa1\n",
      "no of variables: 29\n",
      "no of observations: 141\n",
      "\n",
      "+----------+--------------------------------+\n",
      "| variable | label                          |\n",
      "+----------+--------------------------------+\n",
      "| age      | in years                       |\n",
      "| soph     | =1 if sophomore                |\n",
      "| junior   | =1 if junior                   |\n",
      "| senior   | =1 if senior                   |\n",
      "| senior5  | =1 if fifth year senior        |\n",
      "| male     | =1 if male                     |\n",
      "| campus   | =1 if live on campus           |\n",
      "| business | =1 if business major           |\n",
      "| engineer | =1 if engineering major        |\n",
      "| colGPA   | MSU GPA                        |\n",
      "| hsGPA    | high school GPA                |\n",
      "| ACT      | 'achievement' score            |\n",
      "| job19    | =1 if job <= 19 hours          |\n",
      "| job20    | =1 if job >= 20 hours          |\n",
      "| drive    | =1 if drive to campus          |\n",
      "| bike     | =1 if bicycle to campus        |\n",
      "| walk     | =1 if walk to campus           |\n",
      "| voluntr  | =1 if do volunteer work        |\n",
      "| PC       | =1 of pers computer at sch     |\n",
      "| greek    | =1 if fraternity or sorority   |\n",
      "| car      | =1 if own car                  |\n",
      "| siblings | =1 if have siblings            |\n",
      "| bgfriend | =1 if boy- or girlfriend       |\n",
      "| clubs    | =1 if belong to MSU club       |\n",
      "| skipped  | avg lectures missed per week   |\n",
      "| alcohol  | avg # days per week drink alc. |\n",
      "| gradMI   | =1 if Michigan high school     |\n",
      "| fathcoll | =1 if father college grad      |\n",
      "| mothcoll | =1 if mother college grad      |\n",
      "+----------+--------------------------------+\n",
      "\n",
      "Christopher Lemmon, a former MSU undergraduate, collected these data\n",
      "from a survey he took of MSU students in Fall 1994.\n"
     ]
    }
   ],
   "source": [
    "dataWoo('gpa1', description=True)"
   ]
  },
  {
   "cell_type": "code",
   "execution_count": 43,
   "metadata": {},
   "outputs": [],
   "source": [
    "gpa1 = dataWoo('gpa1')\n",
    "\n",
    "gpa1['parcoll'] = 0\n",
    "gpa1.parcoll.loc[gpa1.fathcoll == 1 | gpa1.mothcoll] = 1"
   ]
  },
  {
   "cell_type": "code",
   "execution_count": 44,
   "metadata": {},
   "outputs": [
    {
     "data": {
      "text/html": [
       "<table class=\"simpletable\">\n",
       "<caption>OLS Regression Results</caption>\n",
       "<tr>\n",
       "  <th>Dep. Variable:</th>           <td>PC</td>        <th>  R-squared:         </th> <td>   0.023</td>\n",
       "</tr>\n",
       "<tr>\n",
       "  <th>Model:</th>                   <td>OLS</td>       <th>  Adj. R-squared:    </th> <td>   0.002</td>\n",
       "</tr>\n",
       "<tr>\n",
       "  <th>Method:</th>             <td>Least Squares</td>  <th>  F-statistic:       </th> <td>   1.087</td>\n",
       "</tr>\n",
       "<tr>\n",
       "  <th>Date:</th>             <td>Sat, 09 May 2020</td> <th>  Prob (F-statistic):</th>  <td> 0.357</td> \n",
       "</tr>\n",
       "<tr>\n",
       "  <th>Time:</th>                 <td>15:36:56</td>     <th>  Log-Likelihood:    </th> <td> -97.630</td>\n",
       "</tr>\n",
       "<tr>\n",
       "  <th>No. Observations:</th>      <td>   141</td>      <th>  AIC:               </th> <td>   203.3</td>\n",
       "</tr>\n",
       "<tr>\n",
       "  <th>Df Residuals:</th>          <td>   137</td>      <th>  BIC:               </th> <td>   215.1</td>\n",
       "</tr>\n",
       "<tr>\n",
       "  <th>Df Model:</th>              <td>     3</td>      <th>                     </th>     <td> </td>   \n",
       "</tr>\n",
       "<tr>\n",
       "  <th>Covariance Type:</th>      <td>nonrobust</td>    <th>                     </th>     <td> </td>   \n",
       "</tr>\n",
       "</table>\n",
       "<table class=\"simpletable\">\n",
       "<tr>\n",
       "      <td></td>         <th>coef</th>     <th>std err</th>      <th>t</th>      <th>P>|t|</th>  <th>[0.025</th>    <th>0.975]</th>  \n",
       "</tr>\n",
       "<tr>\n",
       "  <th>Intercept</th> <td>    0.1107</td> <td>    0.492</td> <td>    0.225</td> <td> 0.822</td> <td>   -0.862</td> <td>    1.083</td>\n",
       "</tr>\n",
       "<tr>\n",
       "  <th>hsGPA</th>     <td>    0.0489</td> <td>    0.138</td> <td>    0.354</td> <td> 0.724</td> <td>   -0.224</td> <td>    0.322</td>\n",
       "</tr>\n",
       "<tr>\n",
       "  <th>ACT</th>       <td>    0.0014</td> <td>    0.016</td> <td>    0.090</td> <td> 0.929</td> <td>   -0.030</td> <td>    0.032</td>\n",
       "</tr>\n",
       "<tr>\n",
       "  <th>parcoll</th>   <td>    0.1463</td> <td>    0.085</td> <td>    1.728</td> <td> 0.086</td> <td>   -0.021</td> <td>    0.314</td>\n",
       "</tr>\n",
       "</table>\n",
       "<table class=\"simpletable\">\n",
       "<tr>\n",
       "  <th>Omnibus:</th>       <td>1290.376</td> <th>  Durbin-Watson:     </th> <td>   1.780</td>\n",
       "</tr>\n",
       "<tr>\n",
       "  <th>Prob(Omnibus):</th>  <td> 0.000</td>  <th>  Jarque-Bera (JB):  </th> <td>  21.607</td>\n",
       "</tr>\n",
       "<tr>\n",
       "  <th>Skew:</th>           <td> 0.405</td>  <th>  Prob(JB):          </th> <td>2.03e-05</td>\n",
       "</tr>\n",
       "<tr>\n",
       "  <th>Kurtosis:</th>       <td> 1.262</td>  <th>  Cond. No.          </th> <td>    298.</td>\n",
       "</tr>\n",
       "</table><br/><br/>Warnings:<br/>[1] Standard Errors assume that the covariance matrix of the errors is correctly specified."
      ],
      "text/plain": [
       "<class 'statsmodels.iolib.summary.Summary'>\n",
       "\"\"\"\n",
       "                            OLS Regression Results                            \n",
       "==============================================================================\n",
       "Dep. Variable:                     PC   R-squared:                       0.023\n",
       "Model:                            OLS   Adj. R-squared:                  0.002\n",
       "Method:                 Least Squares   F-statistic:                     1.087\n",
       "Date:                Sat, 09 May 2020   Prob (F-statistic):              0.357\n",
       "Time:                        15:36:56   Log-Likelihood:                -97.630\n",
       "No. Observations:                 141   AIC:                             203.3\n",
       "Df Residuals:                     137   BIC:                             215.1\n",
       "Df Model:                           3                                         \n",
       "Covariance Type:            nonrobust                                         \n",
       "==============================================================================\n",
       "                 coef    std err          t      P>|t|      [0.025      0.975]\n",
       "------------------------------------------------------------------------------\n",
       "Intercept      0.1107      0.492      0.225      0.822      -0.862       1.083\n",
       "hsGPA          0.0489      0.138      0.354      0.724      -0.224       0.322\n",
       "ACT            0.0014      0.016      0.090      0.929      -0.030       0.032\n",
       "parcoll        0.1463      0.085      1.728      0.086      -0.021       0.314\n",
       "==============================================================================\n",
       "Omnibus:                     1290.376   Durbin-Watson:                   1.780\n",
       "Prob(Omnibus):                  0.000   Jarque-Bera (JB):               21.607\n",
       "Skew:                           0.405   Prob(JB):                     2.03e-05\n",
       "Kurtosis:                       1.262   Cond. No.                         298.\n",
       "==============================================================================\n",
       "\n",
       "Warnings:\n",
       "[1] Standard Errors assume that the covariance matrix of the errors is correctly specified.\n",
       "\"\"\""
      ]
     },
     "execution_count": 44,
     "metadata": {},
     "output_type": "execute_result"
    }
   ],
   "source": [
    "GPA_OLS = smf.ols(\"PC ~ hsGPA + ACT + parcoll\", data=gpa1).fit()\n",
    "GPA_OLS.summary()"
   ]
  },
  {
   "cell_type": "markdown",
   "metadata": {},
   "source": [
    "## Chapter 9: More on Specification and Data Issues\n",
    "\n",
    "### **`Example 9.8:` R&D Intensity and Firm Size**\n",
    "\n",
    "\n",
    "$$rdintens = \\beta_0 + \\beta_1sales + \\beta_2profmarg + \\mu$$\n",
    "\n",
    "From _Businessweek R&D Scoreboard_, October 25, 1991. Load the data and estimate the model."
   ]
  },
  {
   "cell_type": "code",
   "execution_count": 45,
   "metadata": {},
   "outputs": [],
   "source": [
    "rdchem = dataWoo(\"rdchem\")\n",
    "\n",
    "all_rdchem = smf.ols(\"rdintens ~ sales + profmarg\", data=rdchem).fit()"
   ]
  },
  {
   "cell_type": "code",
   "execution_count": 46,
   "metadata": {},
   "outputs": [
    {
     "data": {
      "text/html": [
       "<table class=\"simpletable\">\n",
       "<caption>OLS Regression Results</caption>\n",
       "<tr>\n",
       "  <th>Dep. Variable:</th>        <td>rdintens</td>     <th>  R-squared:         </th> <td>   0.076</td>\n",
       "</tr>\n",
       "<tr>\n",
       "  <th>Model:</th>                   <td>OLS</td>       <th>  Adj. R-squared:    </th> <td>   0.012</td>\n",
       "</tr>\n",
       "<tr>\n",
       "  <th>Method:</th>             <td>Least Squares</td>  <th>  F-statistic:       </th> <td>   1.195</td>\n",
       "</tr>\n",
       "<tr>\n",
       "  <th>Date:</th>             <td>Sat, 09 May 2020</td> <th>  Prob (F-statistic):</th>  <td> 0.317</td> \n",
       "</tr>\n",
       "<tr>\n",
       "  <th>Time:</th>                 <td>15:36:56</td>     <th>  Log-Likelihood:    </th> <td> -63.725</td>\n",
       "</tr>\n",
       "<tr>\n",
       "  <th>No. Observations:</th>      <td>    32</td>      <th>  AIC:               </th> <td>   133.4</td>\n",
       "</tr>\n",
       "<tr>\n",
       "  <th>Df Residuals:</th>          <td>    29</td>      <th>  BIC:               </th> <td>   137.8</td>\n",
       "</tr>\n",
       "<tr>\n",
       "  <th>Df Model:</th>              <td>     2</td>      <th>                     </th>     <td> </td>   \n",
       "</tr>\n",
       "<tr>\n",
       "  <th>Covariance Type:</th>      <td>nonrobust</td>    <th>                     </th>     <td> </td>   \n",
       "</tr>\n",
       "</table>\n",
       "<table class=\"simpletable\">\n",
       "<tr>\n",
       "      <td></td>         <th>coef</th>     <th>std err</th>      <th>t</th>      <th>P>|t|</th>  <th>[0.025</th>    <th>0.975]</th>  \n",
       "</tr>\n",
       "<tr>\n",
       "  <th>Intercept</th> <td>    2.6253</td> <td>    0.586</td> <td>    4.484</td> <td> 0.000</td> <td>    1.428</td> <td>    3.823</td>\n",
       "</tr>\n",
       "<tr>\n",
       "  <th>sales</th>     <td> 5.338e-05</td> <td> 4.41e-05</td> <td>    1.211</td> <td> 0.236</td> <td>-3.68e-05</td> <td>    0.000</td>\n",
       "</tr>\n",
       "<tr>\n",
       "  <th>profmarg</th>  <td>    0.0446</td> <td>    0.046</td> <td>    0.966</td> <td> 0.342</td> <td>   -0.050</td> <td>    0.139</td>\n",
       "</tr>\n",
       "</table>\n",
       "<table class=\"simpletable\">\n",
       "<tr>\n",
       "  <th>Omnibus:</th>       <td>20.499</td> <th>  Durbin-Watson:     </th> <td>   1.694</td>\n",
       "</tr>\n",
       "<tr>\n",
       "  <th>Prob(Omnibus):</th> <td> 0.000</td> <th>  Jarque-Bera (JB):  </th> <td>  28.349</td>\n",
       "</tr>\n",
       "<tr>\n",
       "  <th>Skew:</th>          <td> 1.674</td> <th>  Prob(JB):          </th> <td>6.98e-07</td>\n",
       "</tr>\n",
       "<tr>\n",
       "  <th>Kurtosis:</th>      <td> 6.170</td> <th>  Cond. No.          </th> <td>1.49e+04</td>\n",
       "</tr>\n",
       "</table><br/><br/>Warnings:<br/>[1] Standard Errors assume that the covariance matrix of the errors is correctly specified.<br/>[2] The condition number is large, 1.49e+04. This might indicate that there are<br/>strong multicollinearity or other numerical problems."
      ],
      "text/plain": [
       "<class 'statsmodels.iolib.summary.Summary'>\n",
       "\"\"\"\n",
       "                            OLS Regression Results                            \n",
       "==============================================================================\n",
       "Dep. Variable:               rdintens   R-squared:                       0.076\n",
       "Model:                            OLS   Adj. R-squared:                  0.012\n",
       "Method:                 Least Squares   F-statistic:                     1.195\n",
       "Date:                Sat, 09 May 2020   Prob (F-statistic):              0.317\n",
       "Time:                        15:36:56   Log-Likelihood:                -63.725\n",
       "No. Observations:                  32   AIC:                             133.4\n",
       "Df Residuals:                      29   BIC:                             137.8\n",
       "Df Model:                           2                                         \n",
       "Covariance Type:            nonrobust                                         \n",
       "==============================================================================\n",
       "                 coef    std err          t      P>|t|      [0.025      0.975]\n",
       "------------------------------------------------------------------------------\n",
       "Intercept      2.6253      0.586      4.484      0.000       1.428       3.823\n",
       "sales       5.338e-05   4.41e-05      1.211      0.236   -3.68e-05       0.000\n",
       "profmarg       0.0446      0.046      0.966      0.342      -0.050       0.139\n",
       "==============================================================================\n",
       "Omnibus:                       20.499   Durbin-Watson:                   1.694\n",
       "Prob(Omnibus):                  0.000   Jarque-Bera (JB):               28.349\n",
       "Skew:                           1.674   Prob(JB):                     6.98e-07\n",
       "Kurtosis:                       6.170   Cond. No.                     1.49e+04\n",
       "==============================================================================\n",
       "\n",
       "Warnings:\n",
       "[1] Standard Errors assume that the covariance matrix of the errors is correctly specified.\n",
       "[2] The condition number is large, 1.49e+04. This might indicate that there are\n",
       "strong multicollinearity or other numerical problems.\n",
       "\"\"\""
      ]
     },
     "execution_count": 46,
     "metadata": {},
     "output_type": "execute_result"
    }
   ],
   "source": [
    "all_rdchem.summary()"
   ]
  },
  {
   "cell_type": "markdown",
   "metadata": {},
   "source": [
    "So, we can estimate the model without that data point to gain a better understanding of how `sales` and `profmarg` describe `rdintens` for most firms. We can use the `subset` argument of the linear model function to indicate that we only want to estimate the model using data that is less than the highest sales."
   ]
  },
  {
   "cell_type": "code",
   "execution_count": 47,
   "metadata": {},
   "outputs": [],
   "source": [
    "rdchem_sub = rdchem[rdchem.sales < max(rdchem.sales)]\n",
    "\n",
    "smallest_rdchem = smf.ols(\"rdintens ~ sales + profmarg\", data=rdchem_sub).fit()"
   ]
  },
  {
   "cell_type": "code",
   "execution_count": 48,
   "metadata": {},
   "outputs": [
    {
     "data": {
      "text/html": [
       "<table class=\"simpletable\">\n",
       "<caption>OLS Regression Results</caption>\n",
       "<tr>\n",
       "  <th>Dep. Variable:</th>        <td>rdintens</td>     <th>  R-squared:         </th> <td>   0.173</td>\n",
       "</tr>\n",
       "<tr>\n",
       "  <th>Model:</th>                   <td>OLS</td>       <th>  Adj. R-squared:    </th> <td>   0.114</td>\n",
       "</tr>\n",
       "<tr>\n",
       "  <th>Method:</th>             <td>Least Squares</td>  <th>  F-statistic:       </th> <td>   2.925</td>\n",
       "</tr>\n",
       "<tr>\n",
       "  <th>Date:</th>             <td>Sat, 09 May 2020</td> <th>  Prob (F-statistic):</th>  <td>0.0702</td> \n",
       "</tr>\n",
       "<tr>\n",
       "  <th>Time:</th>                 <td>15:36:56</td>     <th>  Log-Likelihood:    </th> <td> -60.496</td>\n",
       "</tr>\n",
       "<tr>\n",
       "  <th>No. Observations:</th>      <td>    31</td>      <th>  AIC:               </th> <td>   127.0</td>\n",
       "</tr>\n",
       "<tr>\n",
       "  <th>Df Residuals:</th>          <td>    28</td>      <th>  BIC:               </th> <td>   131.3</td>\n",
       "</tr>\n",
       "<tr>\n",
       "  <th>Df Model:</th>              <td>     2</td>      <th>                     </th>     <td> </td>   \n",
       "</tr>\n",
       "<tr>\n",
       "  <th>Covariance Type:</th>      <td>nonrobust</td>    <th>                     </th>     <td> </td>   \n",
       "</tr>\n",
       "</table>\n",
       "<table class=\"simpletable\">\n",
       "<tr>\n",
       "      <td></td>         <th>coef</th>     <th>std err</th>      <th>t</th>      <th>P>|t|</th>  <th>[0.025</th>    <th>0.975]</th>  \n",
       "</tr>\n",
       "<tr>\n",
       "  <th>Intercept</th> <td>    2.2969</td> <td>    0.592</td> <td>    3.881</td> <td> 0.001</td> <td>    1.085</td> <td>    3.509</td>\n",
       "</tr>\n",
       "<tr>\n",
       "  <th>sales</th>     <td>    0.0002</td> <td> 8.42e-05</td> <td>    2.204</td> <td> 0.036</td> <td> 1.31e-05</td> <td>    0.000</td>\n",
       "</tr>\n",
       "<tr>\n",
       "  <th>profmarg</th>  <td>    0.0478</td> <td>    0.044</td> <td>    1.075</td> <td> 0.291</td> <td>   -0.043</td> <td>    0.139</td>\n",
       "</tr>\n",
       "</table>\n",
       "<table class=\"simpletable\">\n",
       "<tr>\n",
       "  <th>Omnibus:</th>       <td>19.377</td> <th>  Durbin-Watson:     </th> <td>   1.694</td>\n",
       "</tr>\n",
       "<tr>\n",
       "  <th>Prob(Omnibus):</th> <td> 0.000</td> <th>  Jarque-Bera (JB):  </th> <td>  25.558</td>\n",
       "</tr>\n",
       "<tr>\n",
       "  <th>Skew:</th>          <td> 1.623</td> <th>  Prob(JB):          </th> <td>2.82e-06</td>\n",
       "</tr>\n",
       "<tr>\n",
       "  <th>Kurtosis:</th>      <td> 6.040</td> <th>  Cond. No.          </th> <td>8.56e+03</td>\n",
       "</tr>\n",
       "</table><br/><br/>Warnings:<br/>[1] Standard Errors assume that the covariance matrix of the errors is correctly specified.<br/>[2] The condition number is large, 8.56e+03. This might indicate that there are<br/>strong multicollinearity or other numerical problems."
      ],
      "text/plain": [
       "<class 'statsmodels.iolib.summary.Summary'>\n",
       "\"\"\"\n",
       "                            OLS Regression Results                            \n",
       "==============================================================================\n",
       "Dep. Variable:               rdintens   R-squared:                       0.173\n",
       "Model:                            OLS   Adj. R-squared:                  0.114\n",
       "Method:                 Least Squares   F-statistic:                     2.925\n",
       "Date:                Sat, 09 May 2020   Prob (F-statistic):             0.0702\n",
       "Time:                        15:36:56   Log-Likelihood:                -60.496\n",
       "No. Observations:                  31   AIC:                             127.0\n",
       "Df Residuals:                      28   BIC:                             131.3\n",
       "Df Model:                           2                                         \n",
       "Covariance Type:            nonrobust                                         \n",
       "==============================================================================\n",
       "                 coef    std err          t      P>|t|      [0.025      0.975]\n",
       "------------------------------------------------------------------------------\n",
       "Intercept      2.2969      0.592      3.881      0.001       1.085       3.509\n",
       "sales          0.0002   8.42e-05      2.204      0.036    1.31e-05       0.000\n",
       "profmarg       0.0478      0.044      1.075      0.291      -0.043       0.139\n",
       "==============================================================================\n",
       "Omnibus:                       19.377   Durbin-Watson:                   1.694\n",
       "Prob(Omnibus):                  0.000   Jarque-Bera (JB):               25.558\n",
       "Skew:                           1.623   Prob(JB):                     2.82e-06\n",
       "Kurtosis:                       6.040   Cond. No.                     8.56e+03\n",
       "==============================================================================\n",
       "\n",
       "Warnings:\n",
       "[1] Standard Errors assume that the covariance matrix of the errors is correctly specified.\n",
       "[2] The condition number is large, 8.56e+03. This might indicate that there are\n",
       "strong multicollinearity or other numerical problems.\n",
       "\"\"\""
      ]
     },
     "execution_count": 48,
     "metadata": {},
     "output_type": "execute_result"
    }
   ],
   "source": [
    "smallest_rdchem.summary()"
   ]
  },
  {
   "cell_type": "markdown",
   "metadata": {},
   "source": [
    "## Chapter 10: Basic Regression Analysis with Time Series Data\n",
    "\n",
    "### **`Example 10.2:` Effects of Inflation and Deficits on Interest Rates**\n",
    "\n",
    "$$\\widehat{i3} = \\beta_0 + \\beta_1inf_t + \\beta_2def_t$$\n",
    "Data from the _Economic Report of the President, 2004_, Tables B-64, B-73, and B-79."
   ]
  },
  {
   "cell_type": "code",
   "execution_count": 49,
   "metadata": {},
   "outputs": [
    {
     "name": "stdout",
     "output_type": "stream",
     "text": [
      "name of dataset: intdef\n",
      "no of variables: 13\n",
      "no of observations: 56\n",
      "\n",
      "+----------+----------------------------------+\n",
      "| variable | label                            |\n",
      "+----------+----------------------------------+\n",
      "| year     | 1948 to 2003                     |\n",
      "| i3       | 3 month T-bill rate              |\n",
      "| inf      | CPI inflation rate               |\n",
      "| rec      | federal receipts, % GDP          |\n",
      "| out      | federal outlays, % GDP           |\n",
      "| def      | out - rec                        |\n",
      "| i3_1     | i3[_n-1]                         |\n",
      "| inf_1    | inf[_n-1]                        |\n",
      "| def_1    | def[_n-1]                        |\n",
      "| ci3      | i3 - i3_1                        |\n",
      "| cinf     | inf - inf_1                      |\n",
      "| cdef     | def - def_1                      |\n",
      "| y77      | =1 if year >= 1977; change in FY |\n",
      "+----------+----------------------------------+\n",
      "\n",
      "Economic Report of the President, 2004, Tables B-64, B-73, and B-79.\n"
     ]
    }
   ],
   "source": [
    "dataWoo(\"intdef\", description=True)"
   ]
  },
  {
   "cell_type": "code",
   "execution_count": 50,
   "metadata": {},
   "outputs": [],
   "source": [
    "intdef = dataWoo(\"intdef\")"
   ]
  },
  {
   "cell_type": "code",
   "execution_count": 51,
   "metadata": {},
   "outputs": [],
   "source": [
    "intdef['infla'] = intdef['inf']\n",
    "intdef['defla'] = intdef['def']"
   ]
  },
  {
   "cell_type": "code",
   "execution_count": 52,
   "metadata": {},
   "outputs": [
    {
     "data": {
      "text/html": [
       "<table class=\"simpletable\">\n",
       "<caption>OLS Regression Results</caption>\n",
       "<tr>\n",
       "  <th>Dep. Variable:</th>           <td>i3</td>        <th>  R-squared:         </th> <td>   0.602</td>\n",
       "</tr>\n",
       "<tr>\n",
       "  <th>Model:</th>                   <td>OLS</td>       <th>  Adj. R-squared:    </th> <td>   0.587</td>\n",
       "</tr>\n",
       "<tr>\n",
       "  <th>Method:</th>             <td>Least Squares</td>  <th>  F-statistic:       </th> <td>   40.09</td>\n",
       "</tr>\n",
       "<tr>\n",
       "  <th>Date:</th>             <td>Sat, 09 May 2020</td> <th>  Prob (F-statistic):</th> <td>2.48e-11</td>\n",
       "</tr>\n",
       "<tr>\n",
       "  <th>Time:</th>                 <td>15:36:56</td>     <th>  Log-Likelihood:    </th> <td> -112.16</td>\n",
       "</tr>\n",
       "<tr>\n",
       "  <th>No. Observations:</th>      <td>    56</td>      <th>  AIC:               </th> <td>   230.3</td>\n",
       "</tr>\n",
       "<tr>\n",
       "  <th>Df Residuals:</th>          <td>    53</td>      <th>  BIC:               </th> <td>   236.4</td>\n",
       "</tr>\n",
       "<tr>\n",
       "  <th>Df Model:</th>              <td>     2</td>      <th>                     </th>     <td> </td>   \n",
       "</tr>\n",
       "<tr>\n",
       "  <th>Covariance Type:</th>      <td>nonrobust</td>    <th>                     </th>     <td> </td>   \n",
       "</tr>\n",
       "</table>\n",
       "<table class=\"simpletable\">\n",
       "<tr>\n",
       "      <td></td>         <th>coef</th>     <th>std err</th>      <th>t</th>      <th>P>|t|</th>  <th>[0.025</th>    <th>0.975]</th>  \n",
       "</tr>\n",
       "<tr>\n",
       "  <th>Intercept</th> <td>    1.7333</td> <td>    0.432</td> <td>    4.012</td> <td> 0.000</td> <td>    0.867</td> <td>    2.600</td>\n",
       "</tr>\n",
       "<tr>\n",
       "  <th>infla</th>     <td>    0.6059</td> <td>    0.082</td> <td>    7.376</td> <td> 0.000</td> <td>    0.441</td> <td>    0.771</td>\n",
       "</tr>\n",
       "<tr>\n",
       "  <th>defla</th>     <td>    0.5131</td> <td>    0.118</td> <td>    4.334</td> <td> 0.000</td> <td>    0.276</td> <td>    0.751</td>\n",
       "</tr>\n",
       "</table>\n",
       "<table class=\"simpletable\">\n",
       "<tr>\n",
       "  <th>Omnibus:</th>       <td> 0.260</td> <th>  Durbin-Watson:     </th> <td>   0.716</td>\n",
       "</tr>\n",
       "<tr>\n",
       "  <th>Prob(Omnibus):</th> <td> 0.878</td> <th>  Jarque-Bera (JB):  </th> <td>   0.015</td>\n",
       "</tr>\n",
       "<tr>\n",
       "  <th>Skew:</th>          <td>-0.028</td> <th>  Prob(JB):          </th> <td>   0.992</td>\n",
       "</tr>\n",
       "<tr>\n",
       "  <th>Kurtosis:</th>      <td> 3.058</td> <th>  Cond. No.          </th> <td>    9.28</td>\n",
       "</tr>\n",
       "</table><br/><br/>Warnings:<br/>[1] Standard Errors assume that the covariance matrix of the errors is correctly specified."
      ],
      "text/plain": [
       "<class 'statsmodels.iolib.summary.Summary'>\n",
       "\"\"\"\n",
       "                            OLS Regression Results                            \n",
       "==============================================================================\n",
       "Dep. Variable:                     i3   R-squared:                       0.602\n",
       "Model:                            OLS   Adj. R-squared:                  0.587\n",
       "Method:                 Least Squares   F-statistic:                     40.09\n",
       "Date:                Sat, 09 May 2020   Prob (F-statistic):           2.48e-11\n",
       "Time:                        15:36:56   Log-Likelihood:                -112.16\n",
       "No. Observations:                  56   AIC:                             230.3\n",
       "Df Residuals:                      53   BIC:                             236.4\n",
       "Df Model:                           2                                         \n",
       "Covariance Type:            nonrobust                                         \n",
       "==============================================================================\n",
       "                 coef    std err          t      P>|t|      [0.025      0.975]\n",
       "------------------------------------------------------------------------------\n",
       "Intercept      1.7333      0.432      4.012      0.000       0.867       2.600\n",
       "infla          0.6059      0.082      7.376      0.000       0.441       0.771\n",
       "defla          0.5131      0.118      4.334      0.000       0.276       0.751\n",
       "==============================================================================\n",
       "Omnibus:                        0.260   Durbin-Watson:                   0.716\n",
       "Prob(Omnibus):                  0.878   Jarque-Bera (JB):                0.015\n",
       "Skew:                          -0.028   Prob(JB):                        0.992\n",
       "Kurtosis:                       3.058   Cond. No.                         9.28\n",
       "==============================================================================\n",
       "\n",
       "Warnings:\n",
       "[1] Standard Errors assume that the covariance matrix of the errors is correctly specified.\n",
       "\"\"\""
      ]
     },
     "execution_count": 52,
     "metadata": {},
     "output_type": "execute_result"
    }
   ],
   "source": [
    "tbill_model = smf.ols(\"i3 ~ infla + defla\", data=intdef).fit()\n",
    "tbill_model.summary()"
   ]
  },
  {
   "cell_type": "markdown",
   "metadata": {},
   "source": [
    "### **`Example 10.11:` Seasonal Effects of Antidumping Filings**\n",
    "\n",
    "C.M. Krupp and P.S. Pollard (1999), _Market Responses to Antidumpting Laws: Some Evidence from the U.S. Chemical Industry_, Canadian Journal of Economics 29, 199-227. Dr. Krupp kindly provided the data. They are monthly data covering February 1978 through December 1988. "
   ]
  },
  {
   "cell_type": "code",
   "execution_count": 53,
   "metadata": {},
   "outputs": [
    {
     "name": "stdout",
     "output_type": "stream",
     "text": [
      "name of dataset: barium\n",
      "no of variables: 31\n",
      "no of observations: 131\n",
      "\n",
      "+----------+---------------------------------+\n",
      "| variable | label                           |\n",
      "+----------+---------------------------------+\n",
      "| chnimp   | Chinese imports, bar. chl.      |\n",
      "| bchlimp  | total imports bar. chl.         |\n",
      "| befile6  | =1 for all 6 mos before filing  |\n",
      "| affile6  | =1 for all 6 mos after filing   |\n",
      "| afdec6   | =1 for all 6 mos after decision |\n",
      "| befile12 | =1 all 12 mos before filing     |\n",
      "| affile12 | =1 all 12 mos after filing      |\n",
      "| afdec12  | =1 all 12 mos after decision    |\n",
      "| chempi   | chemical production index       |\n",
      "| gas      | gasoline production             |\n",
      "| rtwex    | exchange rate index             |\n",
      "| spr      | =1 for spring months            |\n",
      "| sum      | =1 for summer months            |\n",
      "| fall     | =1 for fall months              |\n",
      "| lchnimp  | log(chnimp)                     |\n",
      "| lgas     | log(gas)                        |\n",
      "| lrtwex   | log(rtwex)                      |\n",
      "| lchempi  | log(chempi)                     |\n",
      "| t        | time trend                      |\n",
      "| feb      | =1 if month is feb              |\n",
      "| mar      | =1 if month is march            |\n",
      "| apr      |                                 |\n",
      "| may      |                                 |\n",
      "| jun      |                                 |\n",
      "| jul      |                                 |\n",
      "| aug      |                                 |\n",
      "| sep      |                                 |\n",
      "| oct      |                                 |\n",
      "| nov      |                                 |\n",
      "| dec      |                                 |\n",
      "| percchn  | % imports from china            |\n",
      "+----------+---------------------------------+\n",
      "\n",
      "C.M. Krupp and P.S. Pollard (1999), \"Market Responses to Antidumpting\n",
      "Laws: Some Evidence from the U.S. Chemical Industry,\" Canadian Journal\n",
      "of Economics 29, 199-227. Dr. Krupp kindly provided the data. They are\n",
      "monthly data covering February 1978 through December 1988.\n"
     ]
    }
   ],
   "source": [
    "dataWoo(\"barium\", description=True)"
   ]
  },
  {
   "cell_type": "code",
   "execution_count": 54,
   "metadata": {},
   "outputs": [
    {
     "data": {
      "text/html": [
       "<table class=\"simpletable\">\n",
       "<caption>OLS Regression Results</caption>\n",
       "<tr>\n",
       "  <th>Dep. Variable:</th>         <td>lchnimp</td>     <th>  R-squared:         </th> <td>   0.305</td>\n",
       "</tr>\n",
       "<tr>\n",
       "  <th>Model:</th>                   <td>OLS</td>       <th>  Adj. R-squared:    </th> <td>   0.271</td>\n",
       "</tr>\n",
       "<tr>\n",
       "  <th>Method:</th>             <td>Least Squares</td>  <th>  F-statistic:       </th> <td>   9.064</td>\n",
       "</tr>\n",
       "<tr>\n",
       "  <th>Date:</th>             <td>Sat, 09 May 2020</td> <th>  Prob (F-statistic):</th> <td>3.25e-08</td>\n",
       "</tr>\n",
       "<tr>\n",
       "  <th>Time:</th>                 <td>15:36:56</td>     <th>  Log-Likelihood:    </th> <td> -114.79</td>\n",
       "</tr>\n",
       "<tr>\n",
       "  <th>No. Observations:</th>      <td>   131</td>      <th>  AIC:               </th> <td>   243.6</td>\n",
       "</tr>\n",
       "<tr>\n",
       "  <th>Df Residuals:</th>          <td>   124</td>      <th>  BIC:               </th> <td>   263.7</td>\n",
       "</tr>\n",
       "<tr>\n",
       "  <th>Df Model:</th>              <td>     6</td>      <th>                     </th>     <td> </td>   \n",
       "</tr>\n",
       "<tr>\n",
       "  <th>Covariance Type:</th>      <td>nonrobust</td>    <th>                     </th>     <td> </td>   \n",
       "</tr>\n",
       "</table>\n",
       "<table class=\"simpletable\">\n",
       "<tr>\n",
       "      <td></td>         <th>coef</th>     <th>std err</th>      <th>t</th>      <th>P>|t|</th>  <th>[0.025</th>    <th>0.975]</th>  \n",
       "</tr>\n",
       "<tr>\n",
       "  <th>Intercept</th> <td>  -17.8030</td> <td>   21.045</td> <td>   -0.846</td> <td> 0.399</td> <td>  -59.458</td> <td>   23.852</td>\n",
       "</tr>\n",
       "<tr>\n",
       "  <th>lchempi</th>   <td>    3.1172</td> <td>    0.479</td> <td>    6.505</td> <td> 0.000</td> <td>    2.169</td> <td>    4.066</td>\n",
       "</tr>\n",
       "<tr>\n",
       "  <th>lgas</th>      <td>    0.1964</td> <td>    0.907</td> <td>    0.217</td> <td> 0.829</td> <td>   -1.598</td> <td>    1.991</td>\n",
       "</tr>\n",
       "<tr>\n",
       "  <th>lrtwex</th>    <td>    0.9830</td> <td>    0.400</td> <td>    2.457</td> <td> 0.015</td> <td>    0.191</td> <td>    1.775</td>\n",
       "</tr>\n",
       "<tr>\n",
       "  <th>befile6</th>   <td>    0.0596</td> <td>    0.261</td> <td>    0.228</td> <td> 0.820</td> <td>   -0.457</td> <td>    0.576</td>\n",
       "</tr>\n",
       "<tr>\n",
       "  <th>affile6</th>   <td>   -0.0324</td> <td>    0.264</td> <td>   -0.123</td> <td> 0.903</td> <td>   -0.556</td> <td>    0.491</td>\n",
       "</tr>\n",
       "<tr>\n",
       "  <th>afdec6</th>    <td>   -0.5652</td> <td>    0.286</td> <td>   -1.978</td> <td> 0.050</td> <td>   -1.131</td> <td>    0.001</td>\n",
       "</tr>\n",
       "</table>\n",
       "<table class=\"simpletable\">\n",
       "<tr>\n",
       "  <th>Omnibus:</th>       <td> 9.160</td> <th>  Durbin-Watson:     </th> <td>   1.458</td>\n",
       "</tr>\n",
       "<tr>\n",
       "  <th>Prob(Omnibus):</th> <td> 0.010</td> <th>  Jarque-Bera (JB):  </th> <td>   9.978</td>\n",
       "</tr>\n",
       "<tr>\n",
       "  <th>Skew:</th>          <td>-0.491</td> <th>  Prob(JB):          </th> <td> 0.00681</td>\n",
       "</tr>\n",
       "<tr>\n",
       "  <th>Kurtosis:</th>      <td> 3.930</td> <th>  Cond. No.          </th> <td>9.62e+03</td>\n",
       "</tr>\n",
       "</table><br/><br/>Warnings:<br/>[1] Standard Errors assume that the covariance matrix of the errors is correctly specified.<br/>[2] The condition number is large, 9.62e+03. This might indicate that there are<br/>strong multicollinearity or other numerical problems."
      ],
      "text/plain": [
       "<class 'statsmodels.iolib.summary.Summary'>\n",
       "\"\"\"\n",
       "                            OLS Regression Results                            \n",
       "==============================================================================\n",
       "Dep. Variable:                lchnimp   R-squared:                       0.305\n",
       "Model:                            OLS   Adj. R-squared:                  0.271\n",
       "Method:                 Least Squares   F-statistic:                     9.064\n",
       "Date:                Sat, 09 May 2020   Prob (F-statistic):           3.25e-08\n",
       "Time:                        15:36:56   Log-Likelihood:                -114.79\n",
       "No. Observations:                 131   AIC:                             243.6\n",
       "Df Residuals:                     124   BIC:                             263.7\n",
       "Df Model:                           6                                         \n",
       "Covariance Type:            nonrobust                                         \n",
       "==============================================================================\n",
       "                 coef    std err          t      P>|t|      [0.025      0.975]\n",
       "------------------------------------------------------------------------------\n",
       "Intercept    -17.8030     21.045     -0.846      0.399     -59.458      23.852\n",
       "lchempi        3.1172      0.479      6.505      0.000       2.169       4.066\n",
       "lgas           0.1964      0.907      0.217      0.829      -1.598       1.991\n",
       "lrtwex         0.9830      0.400      2.457      0.015       0.191       1.775\n",
       "befile6        0.0596      0.261      0.228      0.820      -0.457       0.576\n",
       "affile6       -0.0324      0.264     -0.123      0.903      -0.556       0.491\n",
       "afdec6        -0.5652      0.286     -1.978      0.050      -1.131       0.001\n",
       "==============================================================================\n",
       "Omnibus:                        9.160   Durbin-Watson:                   1.458\n",
       "Prob(Omnibus):                  0.010   Jarque-Bera (JB):                9.978\n",
       "Skew:                          -0.491   Prob(JB):                      0.00681\n",
       "Kurtosis:                       3.930   Cond. No.                     9.62e+03\n",
       "==============================================================================\n",
       "\n",
       "Warnings:\n",
       "[1] Standard Errors assume that the covariance matrix of the errors is correctly specified.\n",
       "[2] The condition number is large, 9.62e+03. This might indicate that there are\n",
       "strong multicollinearity or other numerical problems.\n",
       "\"\"\""
      ]
     },
     "execution_count": 54,
     "metadata": {},
     "output_type": "execute_result"
    }
   ],
   "source": [
    "barium = dataWoo(\"barium\")\n",
    "\n",
    "barium_imports = smf.ols(\n",
    "    \"lchnimp ~ lchempi + lgas + lrtwex + befile6 + affile6 + afdec6\",\n",
    "    data=barium).fit()\n",
    "barium_imports.summary()"
   ]
  },
  {
   "cell_type": "markdown",
   "metadata": {},
   "source": [
    "Estimate a new model, `barium_seasonal` which accounts for seasonality by adding dummy variables contained in the data. "
   ]
  },
  {
   "cell_type": "code",
   "execution_count": 55,
   "metadata": {},
   "outputs": [
    {
     "data": {
      "text/html": [
       "<table class=\"simpletable\">\n",
       "<caption>OLS Regression Results</caption>\n",
       "<tr>\n",
       "  <th>Dep. Variable:</th>         <td>lchnimp</td>     <th>  R-squared:         </th> <td>   0.358</td>\n",
       "</tr>\n",
       "<tr>\n",
       "  <th>Model:</th>                   <td>OLS</td>       <th>  Adj. R-squared:    </th> <td>   0.262</td>\n",
       "</tr>\n",
       "<tr>\n",
       "  <th>Method:</th>             <td>Least Squares</td>  <th>  F-statistic:       </th> <td>   3.712</td>\n",
       "</tr>\n",
       "<tr>\n",
       "  <th>Date:</th>             <td>Sat, 09 May 2020</td> <th>  Prob (F-statistic):</th> <td>1.28e-05</td>\n",
       "</tr>\n",
       "<tr>\n",
       "  <th>Time:</th>                 <td>15:36:56</td>     <th>  Log-Likelihood:    </th> <td> -109.54</td>\n",
       "</tr>\n",
       "<tr>\n",
       "  <th>No. Observations:</th>      <td>   131</td>      <th>  AIC:               </th> <td>   255.1</td>\n",
       "</tr>\n",
       "<tr>\n",
       "  <th>Df Residuals:</th>          <td>   113</td>      <th>  BIC:               </th> <td>   306.8</td>\n",
       "</tr>\n",
       "<tr>\n",
       "  <th>Df Model:</th>              <td>    17</td>      <th>                     </th>     <td> </td>   \n",
       "</tr>\n",
       "<tr>\n",
       "  <th>Covariance Type:</th>      <td>nonrobust</td>    <th>                     </th>     <td> </td>   \n",
       "</tr>\n",
       "</table>\n",
       "<table class=\"simpletable\">\n",
       "<tr>\n",
       "      <td></td>         <th>coef</th>     <th>std err</th>      <th>t</th>      <th>P>|t|</th>  <th>[0.025</th>    <th>0.975]</th>  \n",
       "</tr>\n",
       "<tr>\n",
       "  <th>Intercept</th> <td>   16.7788</td> <td>   32.429</td> <td>    0.517</td> <td> 0.606</td> <td>  -47.468</td> <td>   81.026</td>\n",
       "</tr>\n",
       "<tr>\n",
       "  <th>lchempi</th>   <td>    3.2651</td> <td>    0.493</td> <td>    6.624</td> <td> 0.000</td> <td>    2.288</td> <td>    4.242</td>\n",
       "</tr>\n",
       "<tr>\n",
       "  <th>lgas</th>      <td>   -1.2781</td> <td>    1.389</td> <td>   -0.920</td> <td> 0.359</td> <td>   -4.030</td> <td>    1.474</td>\n",
       "</tr>\n",
       "<tr>\n",
       "  <th>lrtwex</th>    <td>    0.6630</td> <td>    0.471</td> <td>    1.407</td> <td> 0.162</td> <td>   -0.271</td> <td>    1.597</td>\n",
       "</tr>\n",
       "<tr>\n",
       "  <th>befile6</th>   <td>    0.1397</td> <td>    0.267</td> <td>    0.524</td> <td> 0.602</td> <td>   -0.389</td> <td>    0.668</td>\n",
       "</tr>\n",
       "<tr>\n",
       "  <th>affile6</th>   <td>    0.0126</td> <td>    0.279</td> <td>    0.045</td> <td> 0.964</td> <td>   -0.539</td> <td>    0.565</td>\n",
       "</tr>\n",
       "<tr>\n",
       "  <th>afdec6</th>    <td>   -0.5213</td> <td>    0.302</td> <td>   -1.726</td> <td> 0.087</td> <td>   -1.120</td> <td>    0.077</td>\n",
       "</tr>\n",
       "<tr>\n",
       "  <th>feb</th>       <td>   -0.4177</td> <td>    0.304</td> <td>   -1.372</td> <td> 0.173</td> <td>   -1.021</td> <td>    0.185</td>\n",
       "</tr>\n",
       "<tr>\n",
       "  <th>mar</th>       <td>    0.0591</td> <td>    0.265</td> <td>    0.223</td> <td> 0.824</td> <td>   -0.465</td> <td>    0.584</td>\n",
       "</tr>\n",
       "<tr>\n",
       "  <th>apr</th>       <td>   -0.4515</td> <td>    0.268</td> <td>   -1.682</td> <td> 0.095</td> <td>   -0.983</td> <td>    0.080</td>\n",
       "</tr>\n",
       "<tr>\n",
       "  <th>may</th>       <td>    0.0333</td> <td>    0.269</td> <td>    0.124</td> <td> 0.902</td> <td>   -0.500</td> <td>    0.567</td>\n",
       "</tr>\n",
       "<tr>\n",
       "  <th>jun</th>       <td>   -0.2063</td> <td>    0.269</td> <td>   -0.766</td> <td> 0.445</td> <td>   -0.740</td> <td>    0.327</td>\n",
       "</tr>\n",
       "<tr>\n",
       "  <th>jul</th>       <td>    0.0038</td> <td>    0.279</td> <td>    0.014</td> <td> 0.989</td> <td>   -0.548</td> <td>    0.556</td>\n",
       "</tr>\n",
       "<tr>\n",
       "  <th>aug</th>       <td>   -0.1571</td> <td>    0.278</td> <td>   -0.565</td> <td> 0.573</td> <td>   -0.708</td> <td>    0.394</td>\n",
       "</tr>\n",
       "<tr>\n",
       "  <th>sep</th>       <td>   -0.1342</td> <td>    0.268</td> <td>   -0.501</td> <td> 0.617</td> <td>   -0.664</td> <td>    0.396</td>\n",
       "</tr>\n",
       "<tr>\n",
       "  <th>oct</th>       <td>    0.0517</td> <td>    0.267</td> <td>    0.194</td> <td> 0.847</td> <td>   -0.477</td> <td>    0.580</td>\n",
       "</tr>\n",
       "<tr>\n",
       "  <th>nov</th>       <td>   -0.2463</td> <td>    0.263</td> <td>   -0.937</td> <td> 0.351</td> <td>   -0.767</td> <td>    0.274</td>\n",
       "</tr>\n",
       "<tr>\n",
       "  <th>dec</th>       <td>    0.1328</td> <td>    0.271</td> <td>    0.489</td> <td> 0.626</td> <td>   -0.405</td> <td>    0.671</td>\n",
       "</tr>\n",
       "</table>\n",
       "<table class=\"simpletable\">\n",
       "<tr>\n",
       "  <th>Omnibus:</th>       <td> 9.169</td> <th>  Durbin-Watson:     </th> <td>   1.325</td>\n",
       "</tr>\n",
       "<tr>\n",
       "  <th>Prob(Omnibus):</th> <td> 0.010</td> <th>  Jarque-Bera (JB):  </th> <td>   9.324</td>\n",
       "</tr>\n",
       "<tr>\n",
       "  <th>Skew:</th>          <td>-0.540</td> <th>  Prob(JB):          </th> <td> 0.00945</td>\n",
       "</tr>\n",
       "<tr>\n",
       "  <th>Kurtosis:</th>      <td> 3.736</td> <th>  Cond. No.          </th> <td>1.47e+04</td>\n",
       "</tr>\n",
       "</table><br/><br/>Warnings:<br/>[1] Standard Errors assume that the covariance matrix of the errors is correctly specified.<br/>[2] The condition number is large, 1.47e+04. This might indicate that there are<br/>strong multicollinearity or other numerical problems."
      ],
      "text/plain": [
       "<class 'statsmodels.iolib.summary.Summary'>\n",
       "\"\"\"\n",
       "                            OLS Regression Results                            \n",
       "==============================================================================\n",
       "Dep. Variable:                lchnimp   R-squared:                       0.358\n",
       "Model:                            OLS   Adj. R-squared:                  0.262\n",
       "Method:                 Least Squares   F-statistic:                     3.712\n",
       "Date:                Sat, 09 May 2020   Prob (F-statistic):           1.28e-05\n",
       "Time:                        15:36:56   Log-Likelihood:                -109.54\n",
       "No. Observations:                 131   AIC:                             255.1\n",
       "Df Residuals:                     113   BIC:                             306.8\n",
       "Df Model:                          17                                         \n",
       "Covariance Type:            nonrobust                                         \n",
       "==============================================================================\n",
       "                 coef    std err          t      P>|t|      [0.025      0.975]\n",
       "------------------------------------------------------------------------------\n",
       "Intercept     16.7788     32.429      0.517      0.606     -47.468      81.026\n",
       "lchempi        3.2651      0.493      6.624      0.000       2.288       4.242\n",
       "lgas          -1.2781      1.389     -0.920      0.359      -4.030       1.474\n",
       "lrtwex         0.6630      0.471      1.407      0.162      -0.271       1.597\n",
       "befile6        0.1397      0.267      0.524      0.602      -0.389       0.668\n",
       "affile6        0.0126      0.279      0.045      0.964      -0.539       0.565\n",
       "afdec6        -0.5213      0.302     -1.726      0.087      -1.120       0.077\n",
       "feb           -0.4177      0.304     -1.372      0.173      -1.021       0.185\n",
       "mar            0.0591      0.265      0.223      0.824      -0.465       0.584\n",
       "apr           -0.4515      0.268     -1.682      0.095      -0.983       0.080\n",
       "may            0.0333      0.269      0.124      0.902      -0.500       0.567\n",
       "jun           -0.2063      0.269     -0.766      0.445      -0.740       0.327\n",
       "jul            0.0038      0.279      0.014      0.989      -0.548       0.556\n",
       "aug           -0.1571      0.278     -0.565      0.573      -0.708       0.394\n",
       "sep           -0.1342      0.268     -0.501      0.617      -0.664       0.396\n",
       "oct            0.0517      0.267      0.194      0.847      -0.477       0.580\n",
       "nov           -0.2463      0.263     -0.937      0.351      -0.767       0.274\n",
       "dec            0.1328      0.271      0.489      0.626      -0.405       0.671\n",
       "==============================================================================\n",
       "Omnibus:                        9.169   Durbin-Watson:                   1.325\n",
       "Prob(Omnibus):                  0.010   Jarque-Bera (JB):                9.324\n",
       "Skew:                          -0.540   Prob(JB):                      0.00945\n",
       "Kurtosis:                       3.736   Cond. No.                     1.47e+04\n",
       "==============================================================================\n",
       "\n",
       "Warnings:\n",
       "[1] Standard Errors assume that the covariance matrix of the errors is correctly specified.\n",
       "[2] The condition number is large, 1.47e+04. This might indicate that there are\n",
       "strong multicollinearity or other numerical problems.\n",
       "\"\"\""
      ]
     },
     "execution_count": 55,
     "metadata": {},
     "output_type": "execute_result"
    }
   ],
   "source": [
    "barium_seasonal = smf.ols(\n",
    "    \"lchnimp ~ lchempi + lgas + lrtwex + befile6 + affile6 + afdec6 + \\\n",
    "    feb + mar + apr + may + jun + jul + aug + sep + oct + nov + dec\",\n",
    "    data=barium).fit()\n",
    "barium_seasonal.summary()"
   ]
  },
  {
   "cell_type": "markdown",
   "metadata": {},
   "source": [
    "Now, compute the `anova` between the two models."
   ]
  },
  {
   "cell_type": "code",
   "execution_count": 56,
   "metadata": {},
   "outputs": [
    {
     "data": {
      "text/html": [
       "<div>\n",
       "<style scoped>\n",
       "    .dataframe tbody tr th:only-of-type {\n",
       "        vertical-align: middle;\n",
       "    }\n",
       "\n",
       "    .dataframe tbody tr th {\n",
       "        vertical-align: top;\n",
       "    }\n",
       "\n",
       "    .dataframe thead th {\n",
       "        text-align: right;\n",
       "    }\n",
       "</style>\n",
       "<table border=\"1\" class=\"dataframe\">\n",
       "  <thead>\n",
       "    <tr style=\"text-align: right;\">\n",
       "      <th></th>\n",
       "      <th>df_resid</th>\n",
       "      <th>ssr</th>\n",
       "      <th>df_diff</th>\n",
       "      <th>ss_diff</th>\n",
       "      <th>F</th>\n",
       "      <th>Pr(&gt;F)</th>\n",
       "    </tr>\n",
       "  </thead>\n",
       "  <tbody>\n",
       "    <tr>\n",
       "      <td>0</td>\n",
       "      <td>124.0</td>\n",
       "      <td>44.247088</td>\n",
       "      <td>0.0</td>\n",
       "      <td>NaN</td>\n",
       "      <td>NaN</td>\n",
       "      <td>NaN</td>\n",
       "    </tr>\n",
       "    <tr>\n",
       "      <td>1</td>\n",
       "      <td>113.0</td>\n",
       "      <td>40.843896</td>\n",
       "      <td>11.0</td>\n",
       "      <td>3.403192</td>\n",
       "      <td>0.855943</td>\n",
       "      <td>0.585201</td>\n",
       "    </tr>\n",
       "  </tbody>\n",
       "</table>\n",
       "</div>"
      ],
      "text/plain": [
       "   df_resid        ssr  df_diff   ss_diff         F    Pr(>F)\n",
       "0     124.0  44.247088      0.0       NaN       NaN       NaN\n",
       "1     113.0  40.843896     11.0  3.403192  0.855943  0.585201"
      ]
     },
     "execution_count": 56,
     "metadata": {},
     "output_type": "execute_result"
    }
   ],
   "source": [
    "from statsmodels.stats.api import anova_lm\n",
    "\n",
    "anova_lm(barium_imports, barium_seasonal)"
   ]
  }
 ],
 "metadata": {
  "kernelspec": {
   "display_name": "Python 3",
   "language": "python",
   "name": "python3"
  },
  "language_info": {
   "codemirror_mode": {
    "name": "ipython",
    "version": 3
   },
   "file_extension": ".py",
   "mimetype": "text/x-python",
   "name": "python",
   "nbconvert_exporter": "python",
   "pygments_lexer": "ipython3",
   "version": "3.7.4"
  }
 },
 "nbformat": 4,
 "nbformat_minor": 4
}
